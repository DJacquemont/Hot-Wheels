{
 "cells": [
  {
   "cell_type": "code",
   "execution_count": 30,
   "metadata": {
    "collapsed": true,
    "pycharm": {
     "name": "#%% Thymio notebook\n"
    }
   },
   "outputs": [
    {
     "ename": "NodeLockError",
     "evalue": "Node lock error (current status: busy)",
     "output_type": "error",
     "traceback": [
      "\u001B[1;31m---------------------------------------------------------------------------\u001B[0m",
      "\u001B[1;31mNodeLockError\u001B[0m                             Traceback (most recent call last)",
      "\u001B[1;32m<ipython-input-30-e1b036fbf984>\u001B[0m in \u001B[0;36m<module>\u001B[1;34m\u001B[0m\n\u001B[0;32m      1\u001B[0m \u001B[1;32mimport\u001B[0m \u001B[0mtdmclient\u001B[0m\u001B[1;33m.\u001B[0m\u001B[0mnotebook\u001B[0m\u001B[1;33m\u001B[0m\u001B[1;33m\u001B[0m\u001B[0m\n\u001B[1;32m----> 2\u001B[1;33m \u001B[1;32mawait\u001B[0m \u001B[0mtdmclient\u001B[0m\u001B[1;33m.\u001B[0m\u001B[0mnotebook\u001B[0m\u001B[1;33m.\u001B[0m\u001B[0mstart\u001B[0m\u001B[1;33m(\u001B[0m\u001B[1;33m)\u001B[0m\u001B[1;33m\u001B[0m\u001B[1;33m\u001B[0m\u001B[0m\n\u001B[0m\u001B[0;32m      3\u001B[0m \u001B[1;33m\u001B[0m\u001B[0m\n\u001B[0;32m      4\u001B[0m \u001B[1;33m\u001B[0m\u001B[0m\n",
      "\u001B[1;32mc:\\users\\timme\\appdata\\local\\programs\\python\\python38\\lib\\site-packages\\tdmclient\\notebook\\private.py\u001B[0m in \u001B[0;36mstart\u001B[1;34m(zeroconf, zeroconf_all, tdm_ws, tdm_addr, tdm_port, password, debug, **kwargs)\u001B[0m\n\u001B[0;32m    110\u001B[0m                          debug=debug)\n\u001B[0;32m    111\u001B[0m     \u001B[0mnode\u001B[0m \u001B[1;33m=\u001B[0m \u001B[1;32mawait\u001B[0m \u001B[0mclient\u001B[0m\u001B[1;33m.\u001B[0m\u001B[0mwait_for_node\u001B[0m\u001B[1;33m(\u001B[0m\u001B[1;33m**\u001B[0m\u001B[0mkwargs\u001B[0m\u001B[1;33m)\u001B[0m\u001B[1;33m\u001B[0m\u001B[1;33m\u001B[0m\u001B[0m\n\u001B[1;32m--> 112\u001B[1;33m     \u001B[1;32mawait\u001B[0m \u001B[0mnode\u001B[0m\u001B[1;33m.\u001B[0m\u001B[0mlock\u001B[0m\u001B[1;33m(\u001B[0m\u001B[1;33m)\u001B[0m\u001B[1;33m\u001B[0m\u001B[1;33m\u001B[0m\u001B[0m\n\u001B[0m\u001B[0;32m    113\u001B[0m \u001B[1;33m\u001B[0m\u001B[0m\n\u001B[0;32m    114\u001B[0m     \u001B[1;32mglobal\u001B[0m \u001B[0m_interactive_console\u001B[0m\u001B[1;33m\u001B[0m\u001B[1;33m\u001B[0m\u001B[0m\n",
      "\u001B[1;32mc:\\users\\timme\\appdata\\local\\programs\\python\\python38\\lib\\site-packages\\tdmclient\\clientasyncnode.py\u001B[0m in \u001B[0;36mlock\u001B[1;34m(self)\u001B[0m\n\u001B[0;32m     59\u001B[0m         \u001B[0mresult\u001B[0m \u001B[1;33m=\u001B[0m \u001B[1;32myield\u001B[0m \u001B[1;32mfrom\u001B[0m \u001B[0mself\u001B[0m\u001B[1;33m.\u001B[0m\u001B[0mlock_node\u001B[0m\u001B[1;33m(\u001B[0m\u001B[1;33m)\u001B[0m\u001B[1;33m\u001B[0m\u001B[1;33m\u001B[0m\u001B[0m\n\u001B[0;32m     60\u001B[0m         \u001B[1;32mif\u001B[0m \u001B[0mresult\u001B[0m \u001B[1;32mis\u001B[0m \u001B[1;32mnot\u001B[0m \u001B[1;32mNone\u001B[0m\u001B[1;33m:\u001B[0m\u001B[1;33m\u001B[0m\u001B[1;33m\u001B[0m\u001B[0m\n\u001B[1;32m---> 61\u001B[1;33m             \u001B[1;32mraise\u001B[0m \u001B[0mNodeLockError\u001B[0m\u001B[1;33m(\u001B[0m\u001B[0mself\u001B[0m\u001B[1;33m.\u001B[0m\u001B[0mstatus\u001B[0m\u001B[1;33m)\u001B[0m\u001B[1;33m\u001B[0m\u001B[1;33m\u001B[0m\u001B[0m\n\u001B[0m\u001B[0;32m     62\u001B[0m         \u001B[1;32mreturn\u001B[0m \u001B[0mself\u001B[0m\u001B[1;33m\u001B[0m\u001B[1;33m\u001B[0m\u001B[0m\n\u001B[0;32m     63\u001B[0m \u001B[1;33m\u001B[0m\u001B[0m\n",
      "\u001B[1;31mNodeLockError\u001B[0m: Node lock error (current status: busy)"
     ]
    }
   ],
   "source": [
    "import tdmclient.notebook\n",
    "await tdmclient.notebook.start()\n"
   ]
  },
  {
   "cell_type": "code",
   "execution_count": 2,
   "metadata": {
    "collapsed": false,
    "pycharm": {
     "name": "#%%\n"
    }
   },
   "outputs": [
    {
     "name": "stdout",
     "output_type": "stream",
     "text": [
      "pygame 1.9.6\n",
      "Hello from the pygame community. https://www.pygame.org/contribute.html\n"
     ]
    }
   ],
   "source": [
    "import time\n",
    "import sys\n",
    "import cv2\n",
    "import pygame as pg\n",
    "import numpy as np\n",
    "from importlib import reload\n",
    "\n",
    "import motion_control\n",
    "import vision\n",
    "import kalman\n",
    "import AlgoGlobNav as gn"
   ]
  },
  {
   "cell_type": "code",
   "execution_count": null,
   "outputs": [],
   "source": [
    "reload(motion_control)\n",
    "reload(vision)\n",
    "reload(kalman)\n",
    "reload(gn)"
   ],
   "metadata": {
    "collapsed": false,
    "pycharm": {
     "name": "#%%\n"
    }
   }
  },
  {
   "cell_type": "code",
   "execution_count": 4,
   "outputs": [
    {
     "name": "stdout",
     "output_type": "stream",
     "text": [
      "Nothing done.\n"
     ]
    }
   ],
   "source": [
    "%reset\n"
   ],
   "metadata": {
    "collapsed": false,
    "pycharm": {
     "name": "#%%\n"
    }
   }
  },
  {
   "cell_type": "code",
   "execution_count": 23,
   "metadata": {
    "collapsed": false,
    "pycharm": {
     "name": "#%%\n"
    }
   },
   "outputs": [],
   "source": [
    "\n",
    "vid = cv2.VideoCapture(1)\n"
   ]
  },
  {
   "cell_type": "code",
   "execution_count": 24,
   "metadata": {
    "collapsed": false,
    "pycharm": {
     "name": "#%% Define function to control wheel speeds\n"
    }
   },
   "outputs": [],
   "source": [
    "@tdmclient.notebook.sync_var\n",
    "def motors(l_speed=500, r_speed=500):\n",
    "    \"\"\"\n",
    "    Sets the motor speeds of the Thymio\n",
    "    param l_speed: left motor speed\n",
    "    param r_speed: right motor speed\n",
    "    \"\"\"\n",
    "    global motor_left_target, motor_right_target\n",
    "\n",
    "    motor_left_target = l_speed\n",
    "    motor_right_target = r_speed"
   ]
  },
  {
   "cell_type": "code",
   "execution_count": 25,
   "metadata": {
    "collapsed": false,
    "pycharm": {
     "name": "#%% Define function to read wheel speeds\n"
    }
   },
   "outputs": [],
   "source": [
    "@tdmclient.notebook.sync_var\n",
    "def read_motors():\n",
    "    \"\"\"\n",
    "    Read the motor speeds of the Thymio\n",
    "    \"\"\"\n",
    "    global motor_left_speed, motor_right_speed\n",
    "\n",
    "    return [motor_left_speed, motor_right_speed]\n"
   ]
  },
  {
   "cell_type": "code",
   "execution_count": 26,
   "metadata": {
    "collapsed": false,
    "pycharm": {
     "name": "#%% Define function to read proximity sensor\n"
    }
   },
   "outputs": [],
   "source": [
    "@tdmclient.notebook.sync_var\n",
    "def read_proximity():\n",
    "    \"\"\"\n",
    "    Read the proximity sensors of the Thymio\n",
    "    \"\"\"\n",
    "    global prox_horizontal\n",
    "\n",
    "    return prox_horizontal"
   ]
  },
  {
   "cell_type": "code",
   "execution_count": 31,
   "metadata": {
    "collapsed": false,
    "pycharm": {
     "name": "#%%\n"
    }
   },
   "outputs": [],
   "source": [
    "%%run_python\n",
    "nf_leds_prox_h(0,0,0,0,0,0,0,0)\n",
    "nf_leds_prox_v(0,0)\n",
    "nf_leds_rc(0)\n",
    "nf_leds_sound(0)\n",
    "nf_leds_temperature(0,0)\n",
    "nf_leds_top(0,0,0)\n",
    "nf_leds_bottom_left(0,0,0)\n",
    "nf_leds_bottom_right(0,0,0)\n",
    "nf_leds_buttons(30,0,0,0)\n",
    "nf_leds_top(0,255,0)\n"
   ]
  },
  {
   "cell_type": "code",
   "execution_count": 34,
   "metadata": {
    "collapsed": false,
    "pycharm": {
     "name": "#%% Run thymio\n"
    }
   },
   "outputs": [
    {
     "name": "stdout",
     "output_type": "stream",
     "text": [
      "Start Kalman filter initialization\n",
      "Initialization complete: 0.010 s\n",
      "Initial pose: [0.07533958 0.21200208 0.         0.        ]\n",
      "Initial orientation [-88.75576241   0.        ]\n",
      "--------------------------------------\n",
      "Start global navigation initialization\n",
      "Initialization complete: 0.119 s\n",
      "--------------------------------------\n",
      "Start motion control initialization\n",
      "Initialization complete: 0.000 s\n",
      "--------------------------------------\n",
      "No vision measurements found\n",
      "No vision measurements found\n",
      "No vision measurements found\n",
      "No vision measurements found\n",
      "No vision measurements found\n",
      "No vision measurements found\n",
      "No vision measurements found\n",
      "No vision measurements found\n",
      "No vision measurements found\n",
      "No vision measurements found\n",
      "No vision measurements found\n",
      "No vision measurements found\n",
      "No vision measurements found\n",
      "No vision measurements found\n",
      "No vision measurements found\n",
      "No vision measurements found\n",
      "No vision measurements found\n",
      "No vision measurements found\n",
      "No vision measurements found\n",
      "No vision measurements found\n",
      "No vision measurements found\n",
      "No vision measurements found\n",
      "No vision measurements found\n",
      "No vision measurements found\n",
      "No vision measurements found\n",
      "No vision measurements found\n",
      "No vision measurements found\n",
      "No vision measurements found\n",
      "No vision measurements found\n",
      "No vision measurements found\n",
      "No vision measurements found\n",
      "No vision measurements found\n",
      "No vision measurements found\n",
      "No vision measurements found\n",
      "No vision measurements found\n",
      "No vision measurements found\n",
      "No vision measurements found\n",
      "No vision measurements found\n",
      "No vision measurements found\n",
      "No vision measurements found\n",
      "No vision measurements found\n",
      "No vision measurements found\n",
      "No vision measurements found\n",
      "No vision measurements found\n",
      "No vision measurements found\n",
      "No vision measurements found\n",
      "No vision measurements found\n",
      "No vision measurements found\n",
      "No vision measurements found\n",
      "No vision measurements found\n",
      "No vision measurements found\n",
      "No vision measurements found\n",
      "No vision measurements found\n",
      "No vision measurements found\n",
      "No vision measurements found\n",
      "No vision measurements found\n",
      "No vision measurements found\n",
      "No vision measurements found\n",
      "No vision measurements found\n",
      "No vision measurements found\n",
      "No vision measurements found\n",
      "No vision measurements found\n",
      "No vision measurements found\n",
      "No vision measurements found\n",
      "No vision measurements found\n",
      "No vision measurements found\n",
      "No vision measurements found\n",
      "No vision measurements found\n",
      "No vision measurements found\n",
      "No vision measurements found\n",
      "No vision measurements found\n",
      "No vision measurements found\n",
      "No vision measurements found\n",
      "No vision measurements found\n",
      "No vision measurements found\n"
     ]
    },
    {
     "ename": "SystemExit",
     "evalue": "",
     "output_type": "error",
     "traceback": [
      "An exception has occurred, use %tb to see the full traceback.\n",
      "\u001B[1;31mSystemExit\u001B[0m\n"
     ]
    }
   ],
   "source": [
    "\n",
    "# Kalman filter\n",
    "t = time.time()\n",
    "print(\"Start Kalman filter initialization\")\n",
    "mus_pos = []\n",
    "mus_att = []\n",
    "\n",
    "# Initialize state estimate using vision\n",
    "try:\n",
    "    pos, orientation = vision.fetchOdoMeters(vid, 1000)\n",
    "except:\n",
    "    print(\"Could not find initial state\")\n",
    "\n",
    "# Initialize kalman filters\n",
    "try:\n",
    "    kf_pos = kalman.Kalman(_acc_variance=0.5, _type=\"pose\", init_x=np.hstack((pos,[0,0])))\n",
    "    kf_att = kalman.Kalman(_acc_variance=0.5, _type=\"orientation\", init_x=np.hstack((orientation,0)))\n",
    "except:\n",
    "    print(\"Could not initialize Kalman filters\")\n",
    "\n",
    "print(\"Initialization complete: %5.3f s\" % (time.time()-t))\n",
    "print(\"Initial pose:\", kf_pos.mean)\n",
    "print(\"Initial orientation\", kf_att.mean*180/np.pi)\n",
    "print(\"--------------------------------------\")\n",
    "\n",
    "\n",
    "# Global navigation\n",
    "t = time.time()\n",
    "print(\"Start global navigation initialization\")\n",
    "\n",
    "goal = vision.goalFetch(vid)\n",
    "nodes, nodeCon, maskObsDilated, optimal_path = gn.opt_path(vid, goal)\n",
    "\n",
    "print(\"Initialization complete: %5.3f s\" % (time.time()-t))\n",
    "print(\"--------------------------------------\")\n",
    "\n",
    "\n",
    "# Motion control\n",
    "t = time.time()\n",
    "print(\"Start motion control initialization\")\n",
    "\n",
    "mc = motion_control.MotionControl(optimal_path*100,\n",
    "                                  kf_pos.mean[0]*100,\n",
    "                                  kf_pos.mean[1]*100,\n",
    "                                  kf_att.mean[0],\n",
    "                                  nodes,\n",
    "                                  nodeCon,\n",
    "                                  maskObsDilated,\n",
    "                                  goal)\n",
    "\n",
    "print(\"Initialization complete: %5.3f s\" % (time.time()-t))\n",
    "print(\"--------------------------------------\")\n",
    "\n",
    "\n",
    "# Initialize pygame\n",
    "pg.init()\n",
    "\n",
    "h = int(841 / 2)\n",
    "w = int(1189 / 2)\n",
    "scr = pg.display.set_mode((w, h))\n",
    "\n",
    "thymio = pg.image.load(\"thymio.png\")\n",
    "thymio = pg.transform.scale(thymio, (50, 50))\n",
    "\n",
    "# main loop\n",
    "running = True\n",
    "simulate = False\n",
    "local = False\n",
    "while running:\n",
    "    # Configure key presses for pygame and cv2 windows\n",
    "    for event in pg.event.get():\n",
    "        if event.type == pg.QUIT:\n",
    "            cv2.destroyAllWindows()\n",
    "            pg.quit()\n",
    "            sys.exit()\n",
    "        elif event.type == pg.KEYDOWN:\n",
    "            if event.key == pg.K_RETURN :\n",
    "                simulate = not simulate\n",
    "    # Set up environment\n",
    "    scr.fill((0, 0, 0))\n",
    "    pg.draw.line(scr, (255, 255, 255), (0, int(h/2)), (w, int(h/2)))\n",
    "    pg.draw.line(scr, (255, 255, 255), (int(w/2), 0), (int(w/2), h))\n",
    "\n",
    "    # Start thymio movement\n",
    "    if simulate:\n",
    "        # Save expected values and covariance matrices\n",
    "        mus_pos.append(kf_pos.mean)\n",
    "        mus_att.append(kf_att.mean)\n",
    "\n",
    "        # Read sensor data\n",
    "        try:\n",
    "            pos, orientation = vision.fetchOdoMeters(vid)\n",
    "            fetched = True\n",
    "        except:\n",
    "            fetched = False\n",
    "            print(\"No vision measurements found\")\n",
    "\n",
    "        motor_speeds = read_motors()\n",
    "        speed = (sum(motor_speeds)/2)*0.0004                                # magnitude of velocity [m/s]\n",
    "        angular_speed = (motor_speeds[1]-motor_speeds[0])*0.0004/0.094      # magnitude of angular velocity [rad/s]\n",
    "        vel = [speed*np.cos(mus_att[-1][0]), speed*np.sin(mus_att[-1][0])]\n",
    "\n",
    "        # Estimate pose\n",
    "        kalman.estimate_pose(time.time()-t, kf_pos, vel, pos, fetched)\n",
    "\n",
    "        # Estimate orientation\n",
    "        kalman.estimate_orientation(time.time()-t, kf_att, angular_speed, orientation, fetched)\n",
    "\n",
    "        # Motion control\n",
    "        prox_front = read_proximity()\n",
    "        mc.update_motion(kf_pos.mean[0]*100, kf_pos.mean[1]*100, kf_att.mean[0], prox_front, vid)\n",
    "\n",
    "        # Update motor speeds\n",
    "        motors(l_speed=int(mc.l_speed), r_speed=int(mc.r_speed))\n",
    "\n",
    "        # Draw Thymio and optimal path in window\n",
    "        kalman.move(kf_pos.mean[0], kf_pos.mean[1], kf_att.mean[0], w, h, thymio, scr)\n",
    "        kalman.drawLine([mu[0] for mu in mus_pos], [mu[1] for mu in mus_pos], w, h, scr)\n",
    "        kalman.path(mc.optimal_path/100, w, h, scr)\n",
    "    else:\n",
    "        kalman.move(kf_pos.mean[0], kf_pos.mean[1], kf_att.mean[0], w, h, thymio, scr)\n",
    "        kalman.drawLine([mu[0] for mu in mus_pos], [mu[1] for mu in mus_pos], w, h, scr)\n",
    "        kalman.path(mc.optimal_path/100, w, h, scr)\n",
    "        motors(0, 0)\n",
    "\n",
    "    # Update windows\n",
    "    optimal_path = mc.optimal_path/100\n",
    "    try:\n",
    "        output = vision.liveFeedback(vid, mc.nodes, mc.nodeCon, mc.maskObsDilated, optimal_path)\n",
    "    except:\n",
    "        pass\n",
    "    else:\n",
    "        cv2.imshow('Live Feedback', output)\n",
    "\n",
    "    pg.display.flip()\n",
    "    t = time.time()\n",
    "\n",
    "print(\"===================================\")\n",
    "print(\"-------------Finished--------------\")\n",
    "print(\"===================================\")"
   ]
  },
  {
   "cell_type": "code",
   "execution_count": null,
   "metadata": {
    "collapsed": false,
    "pycharm": {
     "name": "#%%\n"
    }
   },
   "outputs": [],
   "source": [
    "motors(100, 100)\n",
    "stop()"
   ]
  },
  {
   "cell_type": "code",
   "execution_count": null,
   "metadata": {
    "collapsed": false,
    "pycharm": {
     "name": "#%%\n"
    }
   },
   "outputs": [],
   "source": [
    "\n",
    "motors(0,0)"
   ]
  },
  {
   "cell_type": "code",
   "execution_count": 21,
   "metadata": {
    "collapsed": false,
    "pycharm": {
     "name": "#%%\n"
    }
   },
   "outputs": [],
   "source": [
    "stop()"
   ]
  },
  {
   "cell_type": "code",
   "execution_count": null,
   "metadata": {
    "collapsed": false,
    "pycharm": {
     "name": "#%%\n"
    }
   },
   "outputs": [],
   "source": [
    "\\\\"
   ]
  }
 ],
 "metadata": {
  "kernelspec": {
   "display_name": "Python 3.10.7 64-bit",
   "language": "python",
   "name": "python3"
  },
  "language_info": {
   "codemirror_mode": {
    "name": "ipython",
    "version": 2
   },
   "file_extension": ".py",
   "mimetype": "text/x-python",
   "name": "python",
   "nbconvert_exporter": "python",
   "pygments_lexer": "ipython2",
   "version": "3.10.7"
  },
  "vscode": {
   "interpreter": {
    "hash": "d2c1617acfb65407c86c6c9be757a3a696331c1921657d6ade4f6ab965232f3d"
   }
  }
 },
 "nbformat": 4,
 "nbformat_minor": 0
}