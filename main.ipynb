{
 "cells": [
  {
   "cell_type": "code",
   "execution_count": 12,
   "metadata": {
    "collapsed": true,
    "pycharm": {
     "name": "#%% Thymio notebook\n"
    }
   },
   "outputs": [
    {
     "ename": "NodeLockError",
     "evalue": "Node lock error (current status: busy)",
     "output_type": "error",
     "traceback": [
      "\u001B[1;31m---------------------------------------------------------------------------\u001B[0m",
      "\u001B[1;31mNodeLockError\u001B[0m                             Traceback (most recent call last)",
      "\u001B[1;32m<ipython-input-12-5c167e91ebae>\u001B[0m in \u001B[0;36m<module>\u001B[1;34m\u001B[0m\n\u001B[0;32m      1\u001B[0m \u001B[1;32mimport\u001B[0m \u001B[0mtdmclient\u001B[0m\u001B[1;33m.\u001B[0m\u001B[0mnotebook\u001B[0m\u001B[1;33m\u001B[0m\u001B[1;33m\u001B[0m\u001B[0m\n\u001B[1;32m----> 2\u001B[1;33m \u001B[1;32mawait\u001B[0m \u001B[0mtdmclient\u001B[0m\u001B[1;33m.\u001B[0m\u001B[0mnotebook\u001B[0m\u001B[1;33m.\u001B[0m\u001B[0mstart\u001B[0m\u001B[1;33m(\u001B[0m\u001B[1;33m)\u001B[0m\u001B[1;33m\u001B[0m\u001B[1;33m\u001B[0m\u001B[0m\n\u001B[0m\u001B[0;32m      3\u001B[0m \u001B[1;33m\u001B[0m\u001B[0m\n",
      "\u001B[1;32mc:\\users\\timme\\appdata\\local\\programs\\python\\python38\\lib\\site-packages\\tdmclient\\notebook\\private.py\u001B[0m in \u001B[0;36mstart\u001B[1;34m(zeroconf, zeroconf_all, tdm_ws, tdm_addr, tdm_port, password, debug, **kwargs)\u001B[0m\n\u001B[0;32m    110\u001B[0m                          debug=debug)\n\u001B[0;32m    111\u001B[0m     \u001B[0mnode\u001B[0m \u001B[1;33m=\u001B[0m \u001B[1;32mawait\u001B[0m \u001B[0mclient\u001B[0m\u001B[1;33m.\u001B[0m\u001B[0mwait_for_node\u001B[0m\u001B[1;33m(\u001B[0m\u001B[1;33m**\u001B[0m\u001B[0mkwargs\u001B[0m\u001B[1;33m)\u001B[0m\u001B[1;33m\u001B[0m\u001B[1;33m\u001B[0m\u001B[0m\n\u001B[1;32m--> 112\u001B[1;33m     \u001B[1;32mawait\u001B[0m \u001B[0mnode\u001B[0m\u001B[1;33m.\u001B[0m\u001B[0mlock\u001B[0m\u001B[1;33m(\u001B[0m\u001B[1;33m)\u001B[0m\u001B[1;33m\u001B[0m\u001B[1;33m\u001B[0m\u001B[0m\n\u001B[0m\u001B[0;32m    113\u001B[0m \u001B[1;33m\u001B[0m\u001B[0m\n\u001B[0;32m    114\u001B[0m     \u001B[1;32mglobal\u001B[0m \u001B[0m_interactive_console\u001B[0m\u001B[1;33m\u001B[0m\u001B[1;33m\u001B[0m\u001B[0m\n",
      "\u001B[1;32mc:\\users\\timme\\appdata\\local\\programs\\python\\python38\\lib\\site-packages\\tdmclient\\clientasyncnode.py\u001B[0m in \u001B[0;36mlock\u001B[1;34m(self)\u001B[0m\n\u001B[0;32m     59\u001B[0m         \u001B[0mresult\u001B[0m \u001B[1;33m=\u001B[0m \u001B[1;32myield\u001B[0m \u001B[1;32mfrom\u001B[0m \u001B[0mself\u001B[0m\u001B[1;33m.\u001B[0m\u001B[0mlock_node\u001B[0m\u001B[1;33m(\u001B[0m\u001B[1;33m)\u001B[0m\u001B[1;33m\u001B[0m\u001B[1;33m\u001B[0m\u001B[0m\n\u001B[0;32m     60\u001B[0m         \u001B[1;32mif\u001B[0m \u001B[0mresult\u001B[0m \u001B[1;32mis\u001B[0m \u001B[1;32mnot\u001B[0m \u001B[1;32mNone\u001B[0m\u001B[1;33m:\u001B[0m\u001B[1;33m\u001B[0m\u001B[1;33m\u001B[0m\u001B[0m\n\u001B[1;32m---> 61\u001B[1;33m             \u001B[1;32mraise\u001B[0m \u001B[0mNodeLockError\u001B[0m\u001B[1;33m(\u001B[0m\u001B[0mself\u001B[0m\u001B[1;33m.\u001B[0m\u001B[0mstatus\u001B[0m\u001B[1;33m)\u001B[0m\u001B[1;33m\u001B[0m\u001B[1;33m\u001B[0m\u001B[0m\n\u001B[0m\u001B[0;32m     62\u001B[0m         \u001B[1;32mreturn\u001B[0m \u001B[0mself\u001B[0m\u001B[1;33m\u001B[0m\u001B[1;33m\u001B[0m\u001B[0m\n\u001B[0;32m     63\u001B[0m \u001B[1;33m\u001B[0m\u001B[0m\n",
      "\u001B[1;31mNodeLockError\u001B[0m: Node lock error (current status: busy)"
     ]
    }
   ],
   "source": [
    "import tdmclient.notebook\n",
    "await tdmclient.notebook.start()"
   ]
  },
  {
   "cell_type": "code",
   "execution_count": 4,
   "outputs": [],
   "source": [
    "import matplotlib.pyplot as plt\n",
    "import time\n",
    "import sys\n",
    "import cv2\n",
    "import math\n",
    "\n",
    "from vision import *\n",
    "from kalman import *"
   ],
   "metadata": {
    "collapsed": false,
    "pycharm": {
     "name": "#%%\n"
    }
   }
  },
  {
   "cell_type": "code",
   "execution_count": 13,
   "outputs": [],
   "source": [
    "@tdmclient.notebook.sync_var\n",
    "def motors(l_speed=500, r_speed=500):\n",
    "    \"\"\"\n",
    "    Sets the motor speeds of the Thymio\n",
    "    param l_speed: left motor speed\n",
    "    param r_speed: right motor speed\n",
    "    \"\"\"\n",
    "    global motor_left_target, motor_right_target\n",
    "\n",
    "    motor_left_target = l_speed\n",
    "    motor_right_target = r_speed"
   ],
   "metadata": {
    "collapsed": false,
    "pycharm": {
     "name": "#%% Define function to control wheel speeds\n"
    }
   }
  },
  {
   "cell_type": "code",
   "execution_count": 14,
   "outputs": [],
   "source": [
    "@tdmclient.notebook.sync_var\n",
    "def read_motors():\n",
    "    \"\"\"\n",
    "    Read the motor speeds of the Thymio\n",
    "    \"\"\"\n",
    "    global motor_left_speed, motor_right_speed\n",
    "\n",
    "    return [motor_left_speed, motor_right_speed]"
   ],
   "metadata": {
    "collapsed": false,
    "pycharm": {
     "name": "#%% Define function to read wheel speeds\n"
    }
   }
  },
  {
   "cell_type": "code",
   "execution_count": 14,
   "outputs": [],
   "source": [
    "vid = cv2.VideoCapture(0)"
   ],
   "metadata": {
    "collapsed": false,
    "pycharm": {
     "name": "#%%\n"
    }
   }
  },
  {
   "cell_type": "code",
   "execution_count": 9,
   "outputs": [
    {
     "ename": "NameError",
     "evalue": "name 'motors' is not defined",
     "output_type": "error",
     "traceback": [
      "\u001B[1;31m---------------------------------------------------------------------------\u001B[0m",
      "\u001B[1;31mNameError\u001B[0m                                 Traceback (most recent call last)",
      "\u001B[1;32m<ipython-input-9-5e99185ab72e>\u001B[0m in \u001B[0;36m<module>\u001B[1;34m\u001B[0m\n\u001B[0;32m     68\u001B[0m     \u001B[1;32melse\u001B[0m\u001B[1;33m:\u001B[0m\u001B[1;33m\u001B[0m\u001B[1;33m\u001B[0m\u001B[0m\n\u001B[0;32m     69\u001B[0m         \u001B[0mmove\u001B[0m\u001B[1;33m(\u001B[0m\u001B[0mkf_pos\u001B[0m\u001B[1;33m.\u001B[0m\u001B[0mmean\u001B[0m\u001B[1;33m[\u001B[0m\u001B[1;36m0\u001B[0m\u001B[1;33m]\u001B[0m\u001B[1;33m,\u001B[0m \u001B[0mkf_pos\u001B[0m\u001B[1;33m.\u001B[0m\u001B[0mmean\u001B[0m\u001B[1;33m[\u001B[0m\u001B[1;36m1\u001B[0m\u001B[1;33m]\u001B[0m\u001B[1;33m,\u001B[0m \u001B[0mkf_att\u001B[0m\u001B[1;33m.\u001B[0m\u001B[0mmean\u001B[0m\u001B[1;33m[\u001B[0m\u001B[1;36m0\u001B[0m\u001B[1;33m]\u001B[0m\u001B[1;33m,\u001B[0m \u001B[0mw\u001B[0m\u001B[1;33m,\u001B[0m \u001B[0mh\u001B[0m\u001B[1;33m,\u001B[0m \u001B[0mthymio\u001B[0m\u001B[1;33m,\u001B[0m \u001B[0mscr\u001B[0m\u001B[1;33m)\u001B[0m\u001B[1;33m\u001B[0m\u001B[1;33m\u001B[0m\u001B[0m\n\u001B[1;32m---> 70\u001B[1;33m         \u001B[0mmotors\u001B[0m\u001B[1;33m(\u001B[0m\u001B[1;36m0\u001B[0m\u001B[1;33m,\u001B[0m \u001B[1;36m0\u001B[0m\u001B[1;33m)\u001B[0m\u001B[1;33m\u001B[0m\u001B[1;33m\u001B[0m\u001B[0m\n\u001B[0m\u001B[0;32m     71\u001B[0m \u001B[1;33m\u001B[0m\u001B[0m\n\u001B[0;32m     72\u001B[0m     \u001B[1;31m# Update screen\u001B[0m\u001B[1;33m\u001B[0m\u001B[1;33m\u001B[0m\u001B[1;33m\u001B[0m\u001B[0m\n",
      "\u001B[1;31mNameError\u001B[0m: name 'motors' is not defined"
     ]
    }
   ],
   "source": [
    "# Initialize pygame\n",
    "pg.init()\n",
    "\n",
    "h = 600\n",
    "w = 800\n",
    "scr = pg.display.set_mode((w, h))\n",
    "\n",
    "thymio = pg.image.load(\"thymio.png\")\n",
    "thymio = pg.transform.scale(thymio, (50, 50))\n",
    "\n",
    "# Set simulation parameters\n",
    "Ts = 0.01\n",
    "NUM_STEPS = 300\n",
    "MEAS_EVERY_STEPS = 10\n",
    "\n",
    "# main loop\n",
    "step = 0\n",
    "running = True\n",
    "simulate = False\n",
    "while running:\n",
    "    for event in pg.event.get():\n",
    "        if event.type == pg.QUIT:\n",
    "            pg.quit()\n",
    "            sys.exit()\n",
    "        elif event.type == pg.KEYDOWN:\n",
    "            if event.key == pg.K_RETURN :\n",
    "                simulate = not simulate\n",
    "    # Set up environment\n",
    "    scr.fill((0, 0, 0))\n",
    "    pg.draw.line(scr, (255, 255, 255), (0, int(h/2)), (w, int(h/2)))\n",
    "    pg.draw.line(scr, (255, 255, 255), (int(w/2), 0), (int(w/2), h))\n",
    "\n",
    "    # Start thymio movement\n",
    "    if simulate:\n",
    "        step+=1\n",
    "\n",
    "        # Save expected values and covariance matrices\n",
    "        mus_pos.append(kf_pos.mean)\n",
    "        covs_pos.append(kf_pos.cov)\n",
    "        mus_att.append(kf_att.mean)\n",
    "        covs_att.append(kf_att.cov)\n",
    "\n",
    "        # Read sensor data\n",
    "        video_odometry = odoFetch(vid)\n",
    "        if not video_odometry:\n",
    "            pos = video_odometry[1:2]\n",
    "            angle = video_odometry[3]\n",
    "        motor_speeds = read_motors()\n",
    "        speed = (sum(motor_speeds)/2)*0.0005 # magnitude of velocity [m/s]\n",
    "        angular_speed = (motor_speeds[1]-motor_speeds[0])*0.0005/0.094 # magnitude of angular velocity [rad/s]\n",
    "        velocity = [speed*np.cos(mus_att[-1][0]), speed*np.sin(mus_att[-1][0])]\n",
    "\n",
    "        # Estimate pose\n",
    "        kf_pos.predict(dt=Ts)\n",
    "        kf_pos.update(meas_value=velocity,\n",
    "                meas_variance=meas_variance_vel,\n",
    "                C=np.array([[0, 0, 1, 0], [0, 0, 0, 1]]))\n",
    "        if not video_odometry:\n",
    "            kf_pos.update(meas_value=pos,\n",
    "                meas_variance=meas_variance_pos,\n",
    "                C=np.array([[1, 0, 0, 0], [0, 1, 0, 0]]))\n",
    "\n",
    "        # Estimate orientation\n",
    "        kf_att.predict(dt=Ts)\n",
    "        kf_att.update(meas_value=angular_speed,\n",
    "                meas_variance=meas_variance_omega,\n",
    "                C=np.array([0, 1]))\n",
    "        if not video_odometry:\n",
    "            kf_pos.update(meas_value=angle,\n",
    "                meas_variance=meas_variance_att,\n",
    "                C=np.array([1, 0]))\n",
    "\n",
    "        # Update thymio position\n",
    "        move(kf_pos.mean[0], kf_pos.mean[1], kf_att.mean[0], w, h, thymio, scr)\n",
    "        drawLine([mu[0] for mu in mus_pos], [mu[1] for mu in mus_pos], w, h, scr)\n",
    "\n",
    "        # Flow control\n",
    "        if step > 100:\n",
    "            motors(-200, 200)\n",
    "    else:\n",
    "        move(kf_pos.mean[0], kf_pos.mean[1], kf_att.mean[0], w, h, thymio, scr)\n",
    "        motors(0, 0)\n",
    "\n",
    "    # Update screen\n",
    "    pg.display.flip()\n",
    "    time.sleep(Ts)\n",
    "\n",
    "motors(0, 0)"
   ],
   "metadata": {
    "collapsed": false,
    "pycharm": {
     "name": "#%% Run thymio\n"
    }
   }
  },
  {
   "cell_type": "code",
   "execution_count": null,
   "outputs": [],
   "source": [
    "stop()"
   ],
   "metadata": {
    "collapsed": false,
    "pycharm": {
     "name": "#%%\n"
    }
   }
  }
 ],
 "metadata": {
  "kernelspec": {
   "display_name": "Python 3",
   "language": "python",
   "name": "python3"
  },
  "language_info": {
   "codemirror_mode": {
    "name": "ipython",
    "version": 2
   },
   "file_extension": ".py",
   "mimetype": "text/x-python",
   "name": "python",
   "nbconvert_exporter": "python",
   "pygments_lexer": "ipython2",
   "version": "2.7.6"
  }
 },
 "nbformat": 4,
 "nbformat_minor": 0
}