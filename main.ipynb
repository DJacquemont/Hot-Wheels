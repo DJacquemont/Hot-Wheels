{
 "cells": [
  {
   "cell_type": "code",
   "execution_count": 12,
   "metadata": {
    "collapsed": true,
    "pycharm": {
     "name": "#%% Thymio notebook\n"
    }
   },
   "outputs": [
    {
     "ename": "NodeLockError",
     "evalue": "Node lock error (current status: busy)",
     "output_type": "error",
     "traceback": [
      "\u001B[1;31m---------------------------------------------------------------------------\u001B[0m",
      "\u001B[1;31mNodeLockError\u001B[0m                             Traceback (most recent call last)",
      "\u001B[1;32m<ipython-input-12-5c167e91ebae>\u001B[0m in \u001B[0;36m<module>\u001B[1;34m\u001B[0m\n\u001B[0;32m      1\u001B[0m \u001B[1;32mimport\u001B[0m \u001B[0mtdmclient\u001B[0m\u001B[1;33m.\u001B[0m\u001B[0mnotebook\u001B[0m\u001B[1;33m\u001B[0m\u001B[1;33m\u001B[0m\u001B[0m\n\u001B[1;32m----> 2\u001B[1;33m \u001B[1;32mawait\u001B[0m \u001B[0mtdmclient\u001B[0m\u001B[1;33m.\u001B[0m\u001B[0mnotebook\u001B[0m\u001B[1;33m.\u001B[0m\u001B[0mstart\u001B[0m\u001B[1;33m(\u001B[0m\u001B[1;33m)\u001B[0m\u001B[1;33m\u001B[0m\u001B[1;33m\u001B[0m\u001B[0m\n\u001B[0m\u001B[0;32m      3\u001B[0m \u001B[1;33m\u001B[0m\u001B[0m\n",
      "\u001B[1;32mc:\\users\\timme\\appdata\\local\\programs\\python\\python38\\lib\\site-packages\\tdmclient\\notebook\\private.py\u001B[0m in \u001B[0;36mstart\u001B[1;34m(zeroconf, zeroconf_all, tdm_ws, tdm_addr, tdm_port, password, debug, **kwargs)\u001B[0m\n\u001B[0;32m    110\u001B[0m                          debug=debug)\n\u001B[0;32m    111\u001B[0m     \u001B[0mnode\u001B[0m \u001B[1;33m=\u001B[0m \u001B[1;32mawait\u001B[0m \u001B[0mclient\u001B[0m\u001B[1;33m.\u001B[0m\u001B[0mwait_for_node\u001B[0m\u001B[1;33m(\u001B[0m\u001B[1;33m**\u001B[0m\u001B[0mkwargs\u001B[0m\u001B[1;33m)\u001B[0m\u001B[1;33m\u001B[0m\u001B[1;33m\u001B[0m\u001B[0m\n\u001B[1;32m--> 112\u001B[1;33m     \u001B[1;32mawait\u001B[0m \u001B[0mnode\u001B[0m\u001B[1;33m.\u001B[0m\u001B[0mlock\u001B[0m\u001B[1;33m(\u001B[0m\u001B[1;33m)\u001B[0m\u001B[1;33m\u001B[0m\u001B[1;33m\u001B[0m\u001B[0m\n\u001B[0m\u001B[0;32m    113\u001B[0m \u001B[1;33m\u001B[0m\u001B[0m\n\u001B[0;32m    114\u001B[0m     \u001B[1;32mglobal\u001B[0m \u001B[0m_interactive_console\u001B[0m\u001B[1;33m\u001B[0m\u001B[1;33m\u001B[0m\u001B[0m\n",
      "\u001B[1;32mc:\\users\\timme\\appdata\\local\\programs\\python\\python38\\lib\\site-packages\\tdmclient\\clientasyncnode.py\u001B[0m in \u001B[0;36mlock\u001B[1;34m(self)\u001B[0m\n\u001B[0;32m     59\u001B[0m         \u001B[0mresult\u001B[0m \u001B[1;33m=\u001B[0m \u001B[1;32myield\u001B[0m \u001B[1;32mfrom\u001B[0m \u001B[0mself\u001B[0m\u001B[1;33m.\u001B[0m\u001B[0mlock_node\u001B[0m\u001B[1;33m(\u001B[0m\u001B[1;33m)\u001B[0m\u001B[1;33m\u001B[0m\u001B[1;33m\u001B[0m\u001B[0m\n\u001B[0;32m     60\u001B[0m         \u001B[1;32mif\u001B[0m \u001B[0mresult\u001B[0m \u001B[1;32mis\u001B[0m \u001B[1;32mnot\u001B[0m \u001B[1;32mNone\u001B[0m\u001B[1;33m:\u001B[0m\u001B[1;33m\u001B[0m\u001B[1;33m\u001B[0m\u001B[0m\n\u001B[1;32m---> 61\u001B[1;33m             \u001B[1;32mraise\u001B[0m \u001B[0mNodeLockError\u001B[0m\u001B[1;33m(\u001B[0m\u001B[0mself\u001B[0m\u001B[1;33m.\u001B[0m\u001B[0mstatus\u001B[0m\u001B[1;33m)\u001B[0m\u001B[1;33m\u001B[0m\u001B[1;33m\u001B[0m\u001B[0m\n\u001B[0m\u001B[0;32m     62\u001B[0m         \u001B[1;32mreturn\u001B[0m \u001B[0mself\u001B[0m\u001B[1;33m\u001B[0m\u001B[1;33m\u001B[0m\u001B[0m\n\u001B[0;32m     63\u001B[0m \u001B[1;33m\u001B[0m\u001B[0m\n",
      "\u001B[1;31mNodeLockError\u001B[0m: Node lock error (current status: busy)"
     ]
    }
   ],
   "source": [
    "import tdmclient.notebook\n",
    "await tdmclient.notebook.start()"
   ]
  },
  {
   "cell_type": "code",
   "execution_count": null,
   "outputs": [],
   "source": [
    "import matplotlib.pyplot as plt\n",
    "import numpy as np\n",
    "import time\n",
    "import pygame as pg\n",
    "import sys\n",
    "\n",
    "from kalman import Kalman\n",
    "from kalman import move, drawLine"
   ],
   "metadata": {
    "collapsed": false,
    "pycharm": {
     "name": "#%%\n"
    }
   }
  },
  {
   "cell_type": "code",
   "execution_count": 13,
   "outputs": [],
   "source": [
    "@tdmclient.notebook.sync_var\n",
    "def motors(l_speed=500, r_speed=500):\n",
    "    \"\"\"\n",
    "    Sets the motor speeds of the Thymio\n",
    "    param l_speed: left motor speed\n",
    "    param r_speed: right motor speed\n",
    "    \"\"\"\n",
    "    global motor_left_target, motor_right_target\n",
    "\n",
    "    motor_left_target = l_speed\n",
    "    motor_right_target = r_speed"
   ],
   "metadata": {
    "collapsed": false,
    "pycharm": {
     "name": "#%% Define function to control wheel speeds\n"
    }
   }
  },
  {
   "cell_type": "code",
   "execution_count": 14,
   "outputs": [],
   "source": [
    "@tdmclient.notebook.sync_var\n",
    "def read_motors():\n",
    "    \"\"\"\n",
    "    Read the motor speeds of the Thymio\n",
    "    \"\"\"\n",
    "    global motor_left_speed, motor_right_speed\n",
    "\n",
    "    return [motor_left_speed, motor_right_speed]"
   ],
   "metadata": {
    "collapsed": false,
    "pycharm": {
     "name": "#%% Define function to read wheel speeds\n"
    }
   }
  },
  {
   "cell_type": "code",
   "execution_count": 14,
   "outputs": [],
   "source": [],
   "metadata": {
    "collapsed": false,
    "pycharm": {
     "name": "#%%\n"
    }
   }
  },
  {
   "cell_type": "code",
   "execution_count": 16,
   "outputs": [
    {
     "ename": "SystemExit",
     "evalue": "",
     "output_type": "error",
     "traceback": [
      "An exception has occurred, use %tb to see the full traceback.\n",
      "\u001B[1;31mSystemExit\u001B[0m\n"
     ]
    }
   ],
   "source": [
    "# Initialize pygame\n",
    "pg.init()\n",
    "\n",
    "h = 600\n",
    "w = 800\n",
    "scr = pg.display.set_mode((w, h))\n",
    "\n",
    "thymio = pg.image.load(\"thymio.png\")\n",
    "thymio = pg.transform.scale(thymio, (50, 50))\n",
    "\n",
    "# Set simulation parameters\n",
    "Ts = 0.01\n",
    "NUM_STEPS = 300\n",
    "MEAS_EVERY_STEPS = 10\n",
    "\n",
    "# Initialize kalman filter\n",
    "xhat_pos = [0, 0, 0, 0] # Initial pose estimate\n",
    "xhat_att = [0, 0]       # Initial attitude estimate\n",
    "kf_pos = Kalman(init_x=xhat_pos, _acc_variance=0.5, _type=\"pose\")\n",
    "kf_att = Kalman(init_x=xhat_att, _acc_variance=0.5, _type=\"orientation\")\n",
    "\n",
    "meas_variance_pos = np.array([[0.01, 0],\n",
    "                              [0, 0.01]])\n",
    "meas_variance_vel = np.array([[0.01, 0],\n",
    "                              [0, 0.01]])\n",
    "meas_variance_att = np.array([0.001])\n",
    "meas_variance_omega = np.array([0.1])\n",
    "\n",
    "mus_pos = []\n",
    "covs_pos = []\n",
    "mus_att = []\n",
    "covs_att = []\n",
    "\n",
    "# main loop\n",
    "step = 0\n",
    "running = True\n",
    "simulate = False\n",
    "while running:\n",
    "    for event in pg.event.get():\n",
    "        if event.type == pg.QUIT:\n",
    "            pg.quit()\n",
    "            sys.exit()\n",
    "        elif event.type == pg.KEYDOWN:\n",
    "            if event.key == pg.K_RETURN :\n",
    "                simulate = not simulate\n",
    "    # Set up environment\n",
    "    scr.fill((0, 0, 0))\n",
    "    pg.draw.line(scr, (255, 255, 255), (0, int(h/2)), (w, int(h/2)))\n",
    "    pg.draw.line(scr, (255, 255, 255), (int(w/2), 0), (int(w/2), h))\n",
    "\n",
    "    # Start simulation\n",
    "    if simulate:\n",
    "        step+=1\n",
    "\n",
    "        # Save expected values and covariance matrices\n",
    "        mus_pos.append(kf_pos.mean)\n",
    "        covs_pos.append(kf_pos.cov)\n",
    "        mus_att.append(kf_att.mean)\n",
    "        covs_att.append(kf_att.cov)\n",
    "\n",
    "        # Read sensor data\n",
    "        motor_speeds = read_motors()\n",
    "        speed = (sum(motor_speeds)/2)*0.0005 # magnitude of velocity [m/s]\n",
    "        angular_speed = (motor_speeds[1]-motor_speeds[0])*0.0005/0.094 # magnitude of angular velocity [rad/s]\n",
    "        velocity = [speed*np.cos(mus_att[-1][0]), speed*np.sin(mus_att[-1][0])]\n",
    "\n",
    "        # Estimate pose\n",
    "        kf_pos.predict(dt=Ts)\n",
    "        kf_pos.update(meas_value=velocity,\n",
    "                meas_variance=meas_variance_vel,\n",
    "                C=np.array([[0, 0, 1, 0], [0, 0, 0, 1]]))\n",
    "\n",
    "        # Estimate orientation\n",
    "        kf_att.predict(dt=Ts)\n",
    "        kf_att.update(meas_value=angular_speed,\n",
    "                meas_variance=meas_variance_omega,\n",
    "                C=np.array([0, 1]))\n",
    "\n",
    "        # Update thymio position\n",
    "        move(kf_pos.mean[0], kf_pos.mean[1], kf_att.mean[0], w, h, thymio, scr)\n",
    "        drawLine([mu[0] for mu in mus_pos], [mu[1] for mu in mus_pos], w, h, scr)\n",
    "\n",
    "        # Flow control\n",
    "        if step > 100:\n",
    "            motors(-200, 200)\n",
    "    else:\n",
    "        move(kf_pos.mean[0], kf_pos.mean[1], kf_att.mean[0], w, h, thymio, scr)\n",
    "        motors(0, 0)\n",
    "\n",
    "    # Update screen\n",
    "    pg.display.flip()\n",
    "    time.sleep(Ts)\n",
    "\n",
    "motors(0, 0)"
   ],
   "metadata": {
    "collapsed": false,
    "pycharm": {
     "name": "#%% Run thymio\n"
    }
   }
  },
  {
   "cell_type": "code",
   "execution_count": null,
   "outputs": [],
   "source": [
    "\n",
    "stop()\n"
   ],
   "metadata": {
    "collapsed": false,
    "pycharm": {
     "name": "#%%\n"
    }
   }
  },
  {
   "cell_type": "code",
   "execution_count": 9,
   "outputs": [
    {
     "ename": "NameError",
     "evalue": "name 'Ts' is not defined",
     "output_type": "error",
     "traceback": [
      "\u001B[1;31m---------------------------------------------------------------------------\u001B[0m",
      "\u001B[1;31mNameError\u001B[0m                                 Traceback (most recent call last)",
      "\u001B[1;32m<ipython-input-9-0729d075720c>\u001B[0m in \u001B[0;36m<module>\u001B[1;34m\u001B[0m\n\u001B[0;32m      3\u001B[0m \u001B[0mplt\u001B[0m\u001B[1;33m.\u001B[0m\u001B[0msubplot\u001B[0m\u001B[1;33m(\u001B[0m\u001B[1;36m3\u001B[0m\u001B[1;33m,\u001B[0m \u001B[1;36m2\u001B[0m\u001B[1;33m,\u001B[0m \u001B[1;36m1\u001B[0m\u001B[1;33m)\u001B[0m\u001B[1;33m\u001B[0m\u001B[1;33m\u001B[0m\u001B[0m\n\u001B[0;32m      4\u001B[0m \u001B[0mplt\u001B[0m\u001B[1;33m.\u001B[0m\u001B[0mtitle\u001B[0m\u001B[1;33m(\u001B[0m\u001B[1;34m\"Position\"\u001B[0m\u001B[1;33m)\u001B[0m\u001B[1;33m\u001B[0m\u001B[1;33m\u001B[0m\u001B[0m\n\u001B[1;32m----> 5\u001B[1;33m \u001B[0mplt\u001B[0m\u001B[1;33m.\u001B[0m\u001B[0mplot\u001B[0m\u001B[1;33m(\u001B[0m\u001B[0mTs\u001B[0m \u001B[1;33m*\u001B[0m \u001B[0mnp\u001B[0m\u001B[1;33m.\u001B[0m\u001B[0marange\u001B[0m\u001B[1;33m(\u001B[0m\u001B[1;36m0\u001B[0m\u001B[1;33m,\u001B[0m \u001B[0mNUM_STEPS\u001B[0m\u001B[1;33m,\u001B[0m \u001B[1;36m1\u001B[0m\u001B[1;33m)\u001B[0m\u001B[1;33m,\u001B[0m \u001B[1;33m[\u001B[0m\u001B[0mmu\u001B[0m\u001B[1;33m[\u001B[0m\u001B[1;36m0\u001B[0m\u001B[1;33m]\u001B[0m \u001B[1;32mfor\u001B[0m \u001B[0mmu\u001B[0m \u001B[1;32min\u001B[0m \u001B[0mmus_pos\u001B[0m\u001B[1;33m]\u001B[0m\u001B[1;33m,\u001B[0m \u001B[1;34m'r'\u001B[0m\u001B[1;33m)\u001B[0m\u001B[1;33m\u001B[0m\u001B[1;33m\u001B[0m\u001B[0m\n\u001B[0m\u001B[0;32m      6\u001B[0m \u001B[0mplt\u001B[0m\u001B[1;33m.\u001B[0m\u001B[0mplot\u001B[0m\u001B[1;33m(\u001B[0m\u001B[0mTs\u001B[0m \u001B[1;33m*\u001B[0m \u001B[0mnp\u001B[0m\u001B[1;33m.\u001B[0m\u001B[0marange\u001B[0m\u001B[1;33m(\u001B[0m\u001B[1;36m0\u001B[0m\u001B[1;33m,\u001B[0m \u001B[0mNUM_STEPS\u001B[0m\u001B[1;33m,\u001B[0m \u001B[1;36m1\u001B[0m\u001B[1;33m)\u001B[0m\u001B[1;33m,\u001B[0m \u001B[1;33m[\u001B[0m\u001B[0mmu\u001B[0m\u001B[1;33m[\u001B[0m\u001B[1;36m0\u001B[0m\u001B[1;33m]\u001B[0m \u001B[1;33m-\u001B[0m \u001B[0mnp\u001B[0m\u001B[1;33m.\u001B[0m\u001B[0msqrt\u001B[0m\u001B[1;33m(\u001B[0m\u001B[0mcov\u001B[0m\u001B[1;33m[\u001B[0m\u001B[1;36m0\u001B[0m\u001B[1;33m,\u001B[0m \u001B[1;36m0\u001B[0m\u001B[1;33m]\u001B[0m\u001B[1;33m)\u001B[0m \u001B[1;32mfor\u001B[0m \u001B[0mmu\u001B[0m\u001B[1;33m,\u001B[0m \u001B[0mcov\u001B[0m \u001B[1;32min\u001B[0m \u001B[0mzip\u001B[0m\u001B[1;33m(\u001B[0m\u001B[0mmus_pos\u001B[0m\u001B[1;33m,\u001B[0m \u001B[0mcovs_pos\u001B[0m\u001B[1;33m)\u001B[0m\u001B[1;33m]\u001B[0m\u001B[1;33m,\u001B[0m \u001B[1;34m'r--'\u001B[0m\u001B[1;33m)\u001B[0m\u001B[1;33m\u001B[0m\u001B[1;33m\u001B[0m\u001B[0m\n\u001B[0;32m      7\u001B[0m \u001B[0mplt\u001B[0m\u001B[1;33m.\u001B[0m\u001B[0mplot\u001B[0m\u001B[1;33m(\u001B[0m\u001B[0mTs\u001B[0m \u001B[1;33m*\u001B[0m \u001B[0mnp\u001B[0m\u001B[1;33m.\u001B[0m\u001B[0marange\u001B[0m\u001B[1;33m(\u001B[0m\u001B[1;36m0\u001B[0m\u001B[1;33m,\u001B[0m \u001B[0mNUM_STEPS\u001B[0m\u001B[1;33m,\u001B[0m \u001B[1;36m1\u001B[0m\u001B[1;33m)\u001B[0m\u001B[1;33m,\u001B[0m \u001B[1;33m[\u001B[0m\u001B[0mmu\u001B[0m\u001B[1;33m[\u001B[0m\u001B[1;36m0\u001B[0m\u001B[1;33m]\u001B[0m \u001B[1;33m+\u001B[0m \u001B[0mnp\u001B[0m\u001B[1;33m.\u001B[0m\u001B[0msqrt\u001B[0m\u001B[1;33m(\u001B[0m\u001B[0mcov\u001B[0m\u001B[1;33m[\u001B[0m\u001B[1;36m0\u001B[0m\u001B[1;33m,\u001B[0m \u001B[1;36m0\u001B[0m\u001B[1;33m]\u001B[0m\u001B[1;33m)\u001B[0m \u001B[1;32mfor\u001B[0m \u001B[0mmu\u001B[0m\u001B[1;33m,\u001B[0m \u001B[0mcov\u001B[0m \u001B[1;32min\u001B[0m \u001B[0mzip\u001B[0m\u001B[1;33m(\u001B[0m\u001B[0mmus_pos\u001B[0m\u001B[1;33m,\u001B[0m \u001B[0mcovs_pos\u001B[0m\u001B[1;33m)\u001B[0m\u001B[1;33m]\u001B[0m\u001B[1;33m,\u001B[0m \u001B[1;34m'r--'\u001B[0m\u001B[1;33m)\u001B[0m\u001B[1;33m\u001B[0m\u001B[1;33m\u001B[0m\u001B[0m\n",
      "\u001B[1;31mNameError\u001B[0m: name 'Ts' is not defined"
     ]
    },
    {
     "data": {
      "text/plain": "<Figure size 432x288 with 1 Axes>",
      "image/png": "[encoded data removed]"
     },
     "metadata": {
      "needs_background": "light"
     },
     "output_type": "display_data"
    }
   ],
   "source": [
    "plt.figure(1)\n",
    "\n",
    "plt.subplot(3, 2, 1)\n",
    "plt.title(\"Position\")\n",
    "plt.plot(Ts * np.arange(0, NUM_STEPS, 1), [mu[0] for mu in mus_pos], 'r')\n",
    "plt.plot(Ts * np.arange(0, NUM_STEPS, 1), [mu[0] - np.sqrt(cov[0, 0]) for mu, cov in zip(mus_pos, covs_pos)], 'r--')\n",
    "plt.plot(Ts * np.arange(0, NUM_STEPS, 1), [mu[0] + np.sqrt(cov[0, 0]) for mu, cov in zip(mus_pos, covs_pos)], 'r--')\n",
    "plt.grid()\n",
    "\n",
    "plt.subplot(3, 2, 2)\n",
    "plt.title(\"Position\")\n",
    "plt.plot(Ts * np.arange(0, NUM_STEPS, 1), [mu[1] for mu in mus_pos], 'r')\n",
    "plt.plot(Ts * np.arange(0, NUM_STEPS, 1), [mu[1] - np.sqrt(cov[1, 1]) for mu, cov in zip(mus_pos, covs_pos)], 'r--')\n",
    "plt.plot(Ts * np.arange(0, NUM_STEPS, 1), [mu[1] + np.sqrt(cov[1, 1]) for mu, cov in zip(mus_pos, covs_pos)], 'r--')\n",
    "plt.grid()\n",
    "\n",
    "plt.subplot(3, 2, 3)\n",
    "plt.title(\"Velocity\")\n",
    "plt.plot(Ts * np.arange(0, NUM_STEPS, 1), [mu[2] for mu in mus_pos], 'r')\n",
    "plt.plot(Ts * np.arange(0, NUM_STEPS, 1), [mu[2] - np.sqrt(cov[2, 2]) for mu, cov in zip(mus_pos, covs_pos)], 'r--')\n",
    "plt.plot(Ts * np.arange(0, NUM_STEPS, 1), [mu[2] + np.sqrt(cov[2, 2]) for mu, cov in zip(mus_pos, covs_pos)], 'r--')\n",
    "plt.grid()\n",
    "\n",
    "plt.subplot(3, 2, 4)\n",
    "plt.title(\"Velocity\")\n",
    "plt.plot(Ts * np.arange(0, NUM_STEPS, 1), [mu[3] for mu in mus_pos], 'r')\n",
    "plt.plot(Ts * np.arange(0, NUM_STEPS, 1), [mu[3] - np.sqrt(cov[3, 3]) for mu, cov in zip(mus_pos, covs_pos)], 'r--')\n",
    "plt.plot(Ts * np.arange(0, NUM_STEPS, 1), [mu[3] + np.sqrt(cov[3, 3]) for mu, cov in zip(mus_pos, covs_pos)], 'r--')\n",
    "plt.grid()\n",
    "\n",
    "plt.subplot(3, 2, 5)\n",
    "plt.title(\"Orientation\")\n",
    "plt.plot(Ts * np.arange(0, NUM_STEPS, 1), [mu[0] for mu in mus_att], 'r')\n",
    "plt.plot(Ts * np.arange(0, NUM_STEPS, 1), [mu[0] - np.sqrt(cov[0, 0]) for mu, cov in zip(mus_att, covs_att)], 'r--')\n",
    "plt.plot(Ts * np.arange(0, NUM_STEPS, 1), [mu[0] + np.sqrt(cov[0, 0]) for mu, cov in zip(mus_att, covs_att)], 'r--')\n",
    "plt.grid()\n",
    "\n",
    "plt.subplot(3, 2, 6)\n",
    "plt.title(\"Angular Velocity\")\n",
    "plt.plot(Ts * np.arange(0, NUM_STEPS, 1), [mu[1] for mu in mus_att], 'r')\n",
    "plt.plot(Ts * np.arange(0, NUM_STEPS, 1), [mu[1] - np.sqrt(cov[1, 1]) for mu, cov in zip(mus_att, covs_att)], 'r--')\n",
    "plt.plot(Ts * np.arange(0, NUM_STEPS, 1), [mu[1] + np.sqrt(cov[1, 1]) for mu, cov in zip(mus_att, covs_att)], 'r--')\n",
    "plt.grid()\n",
    "\n",
    "plt.tight_layout()\n",
    "\n",
    "plt.show()"
   ],
   "metadata": {
    "collapsed": false,
    "pycharm": {
     "name": "#%% Plot results\n"
    }
   }
  },
  {
   "cell_type": "code",
   "execution_count": 197,
   "outputs": [
    {
     "data": {
      "text/plain": "<Figure size 432x288 with 1 Axes>",
      "image/png": "[encoded data removed]"
     },
     "metadata": {
      "needs_background": "light"
     },
     "output_type": "display_data"
    }
   ],
   "source": [
    "plt.figure(2)\n",
    "plt.plot([mu[0] for mu in mus_pos], [mu[1] for mu in mus_pos])\n",
    "plt.scatter(mus_pos[0][0],mus_pos[0][1], s=50, c=[[0,1,0]])\n",
    "plt.scatter(mus_pos[-1][0],mus_pos[-1][1], s=50, c=[[1,0,0]])\n",
    "plt.xlabel(\"Horizontal distance\")\n",
    "plt.ylabel(\"Vertical distance\")\n",
    "plt.grid()"
   ],
   "metadata": {
    "collapsed": false,
    "pycharm": {
     "name": "#%%\n"
    }
   }
  },
  {
   "cell_type": "code",
   "execution_count": 198,
   "outputs": [
    {
     "name": "stdout",
     "output_type": "stream",
     "text": [
      "0.24514055841161791\n",
      "1.4328252856744288\n"
     ]
    }
   ],
   "source": [
    "print(mus_pos[-1][0])\n",
    "print(mus_att[-1][0])"
   ],
   "metadata": {
    "collapsed": false,
    "pycharm": {
     "name": "#%%\n"
    }
   }
  },
  {
   "cell_type": "code",
   "execution_count": null,
   "outputs": [],
   "source": [],
   "metadata": {
    "collapsed": false,
    "pycharm": {
     "name": "#%%\n"
    }
   }
  }
 ],
 "metadata": {
  "kernelspec": {
   "display_name": "Python 3",
   "language": "python",
   "name": "python3"
  },
  "language_info": {
   "codemirror_mode": {
    "name": "ipython",
    "version": 2
   },
   "file_extension": ".py",
   "mimetype": "text/x-python",
   "name": "python",
   "nbconvert_exporter": "python",
   "pygments_lexer": "ipython2",
   "version": "2.7.6"
  }
 },
 "nbformat": 4,
 "nbformat_minor": 0
}