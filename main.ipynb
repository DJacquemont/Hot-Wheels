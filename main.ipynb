{
 "cells": [
  {
   "cell_type": "code",
   "execution_count": 1,
   "metadata": {
    "collapsed": true,
    "pycharm": {
     "name": "#%% Thymio notebook\n"
    }
   },
   "outputs": [],
   "source": [
    "import tdmclient.notebook\n",
    "await tdmclient.notebook.start()\n"
   ]
  },
  {
   "cell_type": "code",
   "execution_count": 2,
   "outputs": [
    {
     "name": "stdout",
     "output_type": "stream",
     "text": [
      "pygame 1.9.6\n",
      "Hello from the pygame community. https://www.pygame.org/contribute.html\n"
     ]
    }
   ],
   "source": [
    "import time\n",
    "import sys\n",
    "import cv2\n",
    "import pygame as pg\n",
    "import numpy as np\n",
    "\n",
    "import motion_control\n",
    "import vision\n",
    "import kalman\n",
    "import AlgoGlobNav as gn"
   ],
   "metadata": {
    "collapsed": false,
    "pycharm": {
     "name": "#%%\n"
    }
   }
  },
  {
   "cell_type": "code",
   "execution_count": 3,
   "outputs": [],
   "source": [
    "vid = cv2.VideoCapture(1)\n"
   ],
   "metadata": {
    "collapsed": false,
    "pycharm": {
     "name": "#%%\n"
    }
   }
  },
  {
   "cell_type": "code",
   "execution_count": 4,
   "outputs": [],
   "source": [
    "@tdmclient.notebook.sync_var\n",
    "def motors(l_speed=500, r_speed=500):\n",
    "    \"\"\"\n",
    "    Sets the motor speeds of the Thymio\n",
    "    param l_speed: left motor speed\n",
    "    param r_speed: right motor speed\n",
    "    \"\"\"\n",
    "    global motor_left_target, motor_right_target\n",
    "\n",
    "    motor_left_target = l_speed\n",
    "    motor_right_target = r_speed"
   ],
   "metadata": {
    "collapsed": false,
    "pycharm": {
     "name": "#%% Define function to control wheel speeds\n"
    }
   }
  },
  {
   "cell_type": "code",
   "execution_count": 5,
   "outputs": [],
   "source": [
    "@tdmclient.notebook.sync_var\n",
    "def read_motors():\n",
    "    \"\"\"\n",
    "    Read the motor speeds of the Thymio\n",
    "    \"\"\"\n",
    "    global motor_left_speed, motor_right_speed\n",
    "\n",
    "    return [motor_left_speed, motor_right_speed]\n"
   ],
   "metadata": {
    "collapsed": false,
    "pycharm": {
     "name": "#%% Define function to read wheel speeds\n"
    }
   }
  },
  {
   "cell_type": "code",
   "execution_count": 6,
   "outputs": [],
   "source": [
    "@tdmclient.notebook.sync_var\n",
    "def read_proximity():\n",
    "    \"\"\"\n",
    "    Read the proximity sensors of the Thymio\n",
    "    \"\"\"\n",
    "    global prox_horizontal\n",
    "\n",
    "    return prox_horizontal"
   ],
   "metadata": {
    "collapsed": false,
    "pycharm": {
     "name": "#%% Define function to read proximity sensor\n"
    }
   }
  },
  {
   "cell_type": "code",
   "execution_count": 7,
   "outputs": [],
   "source": [
    "%%run_python\n",
    "nf_leds_prox_h(0,0,0,0,0,0,0,0)\n",
    "nf_leds_prox_v(0,0)\n",
    "nf_leds_rc(0)\n",
    "nf_leds_sound(0)\n",
    "nf_leds_temperature(0,0)\n",
    "nf_leds_top(0,0,0)\n",
    "nf_leds_bottom_left(0,0,0)\n",
    "nf_leds_bottom_right(0,0,0)\n",
    "nf_leds_buttons(30,0,0,0)\n",
    "nf_leds_top(0,255,0)\n"
   ],
   "metadata": {
    "collapsed": false,
    "pycharm": {
     "name": "#%%\n"
    }
   }
  },
  {
   "cell_type": "code",
   "execution_count": 8,
   "outputs": [
    {
     "name": "stdout",
     "output_type": "stream",
     "text": [
      "Initial pose: [0.91984375 0.47831875 0.         0.        ]\n",
      "Initial orientation [176.92479482   0.        ]\n",
      "---------------------\n",
      "Can not find goal position\n",
      "Can not find goal position\n",
      "Can not find goal position\n",
      "Can not find goal position\n",
      "Can not find goal position\n",
      "Can not find goal position\n",
      "Can not find goal position\n",
      "Can not find goal position\n",
      "Can not find goal position\n",
      "Can not find goal position\n",
      "Can not find goal position\n",
      "Can not find goal position\n",
      "Can not find goal position\n",
      "Can not find goal position\n",
      "Can not find goal position\n",
      "Can not find goal position\n",
      "Can not find goal position\n",
      "Can not find goal position\n",
      "Can not find goal position\n",
      "Can not find goal position\n",
      "Can not find goal position\n",
      "Can not find goal position\n",
      "Can not find goal position\n",
      "Can not find goal position\n",
      "Can not find goal position\n",
      "Can not find goal position\n",
      "Can not find goal position\n",
      "Can not find goal position\n",
      "Can not find goal position\n",
      "Can not find goal position\n",
      "Can not find goal position\n",
      "Can not find goal position\n",
      "Can not find goal position\n",
      "Can not find goal position\n",
      "Can not find goal position\n",
      "Can not find goal position\n",
      "Can not find goal position\n",
      "Can not find goal position\n",
      "Can not find goal position\n",
      "Can not find goal position\n",
      "Can not find goal position\n",
      "Can not find goal position\n",
      "Can not find goal position\n",
      "Can not find goal position\n",
      "Can not find goal position\n",
      "Can not find goal position\n",
      "Can not find goal position\n",
      "Can not find goal position\n",
      "Can not find goal position\n",
      "Can not find goal position\n",
      "Can not find goal position\n",
      "Can not find goal position\n",
      "Can not find goal position\n",
      "Can not find goal position\n",
      "Can not find goal position\n",
      "Can not find goal position\n",
      "Can not find goal position\n",
      "Can not find goal position\n",
      "Can not find goal position\n",
      "Can not find goal position\n",
      "Can not find goal position\n",
      "Can not find goal position\n",
      "Can not find goal position\n",
      "Can not find goal position\n",
      "Can not find goal position\n",
      "Can not find goal position\n",
      "Can not find goal position\n",
      "Can not find goal position\n",
      "Can not find goal position\n",
      "Can not find goal position\n",
      "Can not find goal position\n",
      "Can not find goal position\n",
      "Can not find goal position\n",
      "Can not find goal position\n",
      "Can not find goal position\n",
      "Can not find goal position\n",
      "Can not find goal position\n",
      "[[0.91984375 0.47831875]\n",
      " [0.57293125 0.50985625]\n",
      " [0.36092917 0.40648333]\n",
      " [0.21901042 0.42400417]]\n",
      "Optimal path found\n",
      "---------------------\n"
     ]
    },
    {
     "ename": "SystemExit",
     "evalue": "",
     "output_type": "error",
     "traceback": [
      "An exception has occurred, use %tb to see the full traceback.\n",
      "\u001B[1;31mSystemExit\u001B[0m\n"
     ]
    },
    {
     "name": "stderr",
     "output_type": "stream",
     "text": [
      "c:\\users\\timme\\appdata\\local\\programs\\python\\python38\\lib\\site-packages\\IPython\\core\\interactiveshell.py:3425: UserWarning: To exit: use 'exit', 'quit', or Ctrl-D.\n",
      "  warn(\"To exit: use 'exit', 'quit', or Ctrl-D.\", stacklevel=1)\n"
     ]
    }
   ],
   "source": [
    "\n",
    "# Kalman filter\n",
    "t = time.time()\n",
    "print(\"Start Kalman filter initialization\")\n",
    "mus_pos = []\n",
    "covs_pos = []\n",
    "mus_att = []\n",
    "covs_att = []\n",
    "\n",
    "meas_variance_pos = np.array([[0.001, 0],\n",
    "                              [0, 0.001]])\n",
    "meas_variance_vel = np.array([[0.1, 0],\n",
    "                              [0, 0.1]])\n",
    "meas_variance_att = np.array([0.001])\n",
    "meas_variance_omega = np.array([0.1])\n",
    "\n",
    "# Initialize state estimate using vision\n",
    "pose, orientation = kalman.init_state(vid)\n",
    "\n",
    "# Initialize kalman filters\n",
    "try:\n",
    "    kf_pos = kalman.Kalman(_acc_variance=0.5, _type=\"pose\", init_x=pose)\n",
    "    kf_att = kalman.Kalman(_acc_variance=0.5, _type=\"orientation\", init_x=orientation)\n",
    "except:\n",
    "    print(\"Could not initialize Kalman filters\")\n",
    "\n",
    "f\"Initialization complete: {time.time()-t}s\"\n",
    "print(\"Initial pose:\", kf_pos.mean)\n",
    "print(\"Initial orientation\", kf_att.mean*180/np.pi)\n",
    "print(\"--------------------------------------\")\n",
    "\n",
    "\n",
    "# Global navigation\n",
    "t = time.time()\n",
    "print(\"Start global navigation initialization\")\n",
    "\n",
    "optimal_pathP = gn.opt_path(vid)\n",
    "optimal_path = np.array(optimal_pathP)*vision.fieldWidthM/vision.fieldWidthP\n",
    "\n",
    "f\"Initialization complete: {time.time()-t}s\"\n",
    "print(\"--------------------------------------\")\n",
    "\n",
    "\n",
    "# Motion control\n",
    "t = time.time()\n",
    "print(\"Start motion control initialization\")\n",
    "\n",
    "mc = motion_control.MotionControl(optimal_path*100,\n",
    "                                  kf_pos.mean[0]*100,\n",
    "                                  kf_pos.mean[1]*100,\n",
    "                                  kf_att.mean[0])\n",
    "\n",
    "f\"Initialization complete: {time.time()-t}s\"\n",
    "print(\"--------------------------------------\")\n",
    "\n",
    "\n",
    "# Initialize pygame\n",
    "pg.init()\n",
    "\n",
    "h = 841 / 2\n",
    "w = 1189 / 2\n",
    "scr = pg.display.set_mode((w, h))\n",
    "\n",
    "thymio = pg.image.load(\"thymio.png\")\n",
    "thymio = pg.transform.scale(thymio, (50, 50))\n",
    "\n",
    "# main loop\n",
    "running = True\n",
    "simulate = False\n",
    "local = False\n",
    "while running:\n",
    "    # Configure key presses for pygame and cv2 windows\n",
    "    for event in pg.event.get():\n",
    "        if event.type == pg.QUIT:\n",
    "            cv2.destroyAllWindows()\n",
    "            pg.quit()\n",
    "            sys.exit()\n",
    "        elif event.type == pg.KEYDOWN:\n",
    "            if event.key == pg.K_RETURN :\n",
    "                simulate = not simulate\n",
    "    # Set up environment\n",
    "    scr.fill((0, 0, 0))\n",
    "    pg.draw.line(scr, (255, 255, 255), (0, int(h/2)), (w, int(h/2)))\n",
    "    pg.draw.line(scr, (255, 255, 255), (int(w/2), 0), (int(w/2), h))\n",
    "\n",
    "    # Start thymio movement\n",
    "    if simulate:\n",
    "        # Save expected values and covariance matrices\n",
    "        mus_pos.append(kf_pos.mean)\n",
    "        covs_pos.append(kf_pos.cov)\n",
    "        mus_att.append(kf_att.mean)\n",
    "        covs_att.append(kf_att.cov)\n",
    "\n",
    "        # Read sensor data\n",
    "        fetched = False\n",
    "        i = 0\n",
    "        while (not fetched) and (i < 10):\n",
    "            video_odometry = vision.fetchOdoMeters(vid)\n",
    "            if type(video_odometry) != bool:\n",
    "                pose = video_odometry[0:2]\n",
    "                orientation = np.array([video_odometry[2]])\n",
    "                fetched = True\n",
    "            i += 1\n",
    "        if not fetched:\n",
    "            print(\"No vision measurements found\")\n",
    "\n",
    "        motor_speeds = read_motors()\n",
    "        speed = (sum(motor_speeds)/2)*0.0004                                # magnitude of velocity [m/s]\n",
    "        angular_speed = (motor_speeds[1]-motor_speeds[0])*0.0004/0.094      # magnitude of angular velocity [rad/s]\n",
    "        velocity = [speed*np.cos(mus_att[-1][0]), speed*np.sin(mus_att[-1][0])]\n",
    "\n",
    "        # Estimate pose\n",
    "        kf_pos.predict(dt=time.time()-t)                    # Prediction step\n",
    "        kf_pos.update(meas_value=velocity,                  # Update step using linear velocity measurement\n",
    "               meas_variance=meas_variance_vel,\n",
    "               C=np.array([[0, 0, 1, 0], [0, 0, 0, 1]]))\n",
    "        if fetched:\n",
    "            kf_pos.update(meas_value=list(pose),             # Update step using position measurement\n",
    "                meas_variance=meas_variance_pos,\n",
    "                C=np.array([[1, 0, 0, 0], [0, 1, 0, 0]]))\n",
    "\n",
    "        # Estimate orientation\n",
    "        kf_att.predict(dt=time.time()-t)                    # Prediction step\n",
    "        kf_att.update(meas_value=angular_speed,             # Update step using angular velocity measurement\n",
    "               meas_variance=meas_variance_omega,\n",
    "               C=np.array([0, 1]))\n",
    "        if fetched:\n",
    "            kf_att.update(meas_value=orientation[0],        # Update step using angle measurement\n",
    "                meas_variance=meas_variance_att,\n",
    "                C=np.array([1, 0]))\n",
    "\n",
    "        # Motion control\n",
    "        prox_front = read_proximity()\n",
    "        if any(prox_front):\n",
    "            local = True\n",
    "            mc.update_local(kf_pos.mean[0]*100, kf_pos.mean[1]*100, kf_att.mean[0], prox_front)\n",
    "        else:\n",
    "            if local:\n",
    "                optimal_pathP = gn.opt_path(vid)\n",
    "                optimal_path = np.array(optimal_pathP)*vision.fieldWidthM/vision.fieldWidthP\n",
    "                mc = motion_control.MotionControl(optimal_path*100,\n",
    "                                  kf_pos.mean[0]*100,\n",
    "                                  kf_pos.mean[1]*100,\n",
    "                                  kf_att.mean[0])\n",
    "            local = False\n",
    "            mc.update_global(kf_pos.mean[0]*100, kf_pos.mean[1]*100, kf_att.mean[0])\n",
    "\n",
    "        # Update motor speeds\n",
    "        motors(l_speed=int(mc.l_speed), r_speed=int(mc.r_speed))\n",
    "\n",
    "        # Draw Thymio and optimal path in window\n",
    "        kalman.move(kf_pos.mean[0], kf_pos.mean[1], kf_att.mean[0], w, h, thymio, scr)\n",
    "        kalman.drawLine([mu[0] for mu in mus_pos], [mu[1] for mu in mus_pos], w, h, scr)\n",
    "        kalman.path(optimal_path, w, h, scr)\n",
    "    else:\n",
    "        kalman.move(kf_pos.mean[0], kf_pos.mean[1], kf_att.mean[0], w, h, thymio, scr)\n",
    "        kalman.drawLine([mu[0] for mu in mus_pos], [mu[1] for mu in mus_pos], w, h, scr)\n",
    "        motors(0, 0)\n",
    "\n",
    "    # Update windows\n",
    "    while(True):\n",
    "        terrain = vision.terrainFetch(vid)\n",
    "        if type(terrain) != bool:\n",
    "            nodes, nodeCon, maskObsDilated = terrain\n",
    "            break\n",
    "    output = vision.liveFeedback(vid, nodes, nodeCon, maskObsDilated, optimal_pathP)\n",
    "    if type(output) != bool:\n",
    "        cv2.imshow('Live Feedback', output)\n",
    "\n",
    "    pg.display.flip()\n",
    "    t = time.time()\n",
    "\n",
    "motors(0, 0)\n",
    "vid.release()"
   ],
   "metadata": {
    "collapsed": false,
    "pycharm": {
     "name": "#%% Run thymio\n"
    }
   }
  },
  {
   "cell_type": "code",
   "execution_count": 5,
   "outputs": [
    {
     "ename": "NameError",
     "evalue": "name 'motors' is not defined",
     "output_type": "error",
     "traceback": [
      "\u001B[1;31m---------------------------------------------------------------------------\u001B[0m",
      "\u001B[1;31mNameError\u001B[0m                                 Traceback (most recent call last)",
      "\u001B[1;32m<ipython-input-5-95e4071252c5>\u001B[0m in \u001B[0;36m<module>\u001B[1;34m\u001B[0m\n\u001B[1;32m----> 1\u001B[1;33m \u001B[0mmotors\u001B[0m\u001B[1;33m(\u001B[0m\u001B[1;36m100\u001B[0m\u001B[1;33m,\u001B[0m \u001B[1;36m100\u001B[0m\u001B[1;33m)\u001B[0m\u001B[1;33m\u001B[0m\u001B[1;33m\u001B[0m\u001B[0m\n\u001B[0m\u001B[0;32m      2\u001B[0m \u001B[0mstop\u001B[0m\u001B[1;33m(\u001B[0m\u001B[1;33m)\u001B[0m\u001B[1;33m\u001B[0m\u001B[1;33m\u001B[0m\u001B[0m\n\u001B[0;32m      3\u001B[0m \u001B[1;33m\u001B[0m\u001B[0m\n",
      "\u001B[1;31mNameError\u001B[0m: name 'motors' is not defined"
     ]
    }
   ],
   "source": [
    "motors(100, 100)\n",
    "stop()"
   ],
   "metadata": {
    "collapsed": false,
    "pycharm": {
     "name": "#%%\n"
    }
   }
  },
  {
   "cell_type": "code",
   "execution_count": 4,
   "outputs": [
    {
     "ename": "NameError",
     "evalue": "name 'motors' is not defined",
     "output_type": "error",
     "traceback": [
      "\u001B[1;31m---------------------------------------------------------------------------\u001B[0m",
      "\u001B[1;31mNameError\u001B[0m                                 Traceback (most recent call last)",
      "\u001B[1;32m<ipython-input-4-7cab176d0296>\u001B[0m in \u001B[0;36m<module>\u001B[1;34m\u001B[0m\n\u001B[1;32m----> 1\u001B[1;33m \u001B[0mmotors\u001B[0m\u001B[1;33m(\u001B[0m\u001B[1;36m0\u001B[0m\u001B[1;33m,\u001B[0m\u001B[1;36m0\u001B[0m\u001B[1;33m)\u001B[0m\u001B[1;33m\u001B[0m\u001B[1;33m\u001B[0m\u001B[0m\n\u001B[0m\u001B[0;32m      2\u001B[0m \u001B[1;33m\u001B[0m\u001B[0m\n",
      "\u001B[1;31mNameError\u001B[0m: name 'motors' is not defined"
     ]
    }
   ],
   "source": [
    "\n",
    "motors(0,0)"
   ],
   "metadata": {
    "collapsed": false,
    "pycharm": {
     "name": "#%%\n"
    }
   }
  },
  {
   "cell_type": "code",
   "execution_count": 2,
   "outputs": [],
   "source": [
    "stop()"
   ],
   "metadata": {
    "collapsed": false,
    "pycharm": {
     "name": "#%%\n"
    }
   }
  },
  {
   "cell_type": "code",
   "execution_count": null,
   "outputs": [],
   "source": [],
   "metadata": {
    "collapsed": false,
    "pycharm": {
     "name": "#%%\n"
    }
   }
  }
 ],
 "metadata": {
  "kernelspec": {
   "display_name": "Python 3",
   "language": "python",
   "name": "python3"
  },
  "language_info": {
   "codemirror_mode": {
    "name": "ipython",
    "version": 2
   },
   "file_extension": ".py",
   "mimetype": "text/x-python",
   "name": "python",
   "nbconvert_exporter": "python",
   "pygments_lexer": "ipython2",
   "version": "2.7.6"
  }
 },
 "nbformat": 4,
 "nbformat_minor": 0
}