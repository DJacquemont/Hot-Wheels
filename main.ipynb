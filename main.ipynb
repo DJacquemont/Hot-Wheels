{
 "cells": [
  {
   "cell_type": "code",
   "execution_count": 6,
   "metadata": {
    "collapsed": true,
    "pycharm": {
     "name": "#%% Thymio notebook\n"
    }
   },
   "outputs": [],
   "source": [
    "import tdmclient.notebook\n",
    "await tdmclient.notebook.start()\n"
   ]
  },
  {
   "cell_type": "code",
   "execution_count": 8,
   "metadata": {
    "collapsed": false,
    "pycharm": {
     "name": "#%%\n"
    }
   },
   "outputs": [
    {
     "name": "stdout",
     "output_type": "stream",
     "text": [
      "pygame 1.9.6\n",
      "Hello from the pygame community. https://www.pygame.org/contribute.html\n"
     ]
    }
   ],
   "source": [
    "import time\n",
    "import sys\n",
    "import cv2\n",
    "import pygame as pg\n",
    "import numpy as np\n",
    "\n",
    "import motion_control\n",
    "import vision\n",
    "import kalman\n",
    "import AlgoGlobNav as gn"
   ]
  },
  {
   "cell_type": "code",
   "execution_count": 9,
   "metadata": {
    "collapsed": false,
    "pycharm": {
     "name": "#%%\n"
    }
   },
   "outputs": [],
   "source": [
    "vid = cv2.VideoCapture(1)\n"
   ]
  },
  {
   "cell_type": "code",
   "execution_count": 10,
   "metadata": {
    "collapsed": false,
    "pycharm": {
     "name": "#%% Define function to control wheel speeds\n"
    }
   },
   "outputs": [],
   "source": [
    "@tdmclient.notebook.sync_var\n",
    "def motors(l_speed=500, r_speed=500):\n",
    "    \"\"\"\n",
    "    Sets the motor speeds of the Thymio\n",
    "    param l_speed: left motor speed\n",
    "    param r_speed: right motor speed\n",
    "    \"\"\"\n",
    "    global motor_left_target, motor_right_target\n",
    "\n",
    "    motor_left_target = l_speed\n",
    "    motor_right_target = r_speed"
   ]
  },
  {
   "cell_type": "code",
   "execution_count": 11,
   "metadata": {
    "collapsed": false,
    "pycharm": {
     "name": "#%% Define function to read wheel speeds\n"
    }
   },
   "outputs": [],
   "source": [
    "@tdmclient.notebook.sync_var\n",
    "def read_motors():\n",
    "    \"\"\"\n",
    "    Read the motor speeds of the Thymio\n",
    "    \"\"\"\n",
    "    global motor_left_speed, motor_right_speed\n",
    "\n",
    "    return [motor_left_speed, motor_right_speed]\n"
   ]
  },
  {
   "cell_type": "code",
   "execution_count": 12,
   "metadata": {
    "collapsed": false,
    "pycharm": {
     "name": "#%% Define function to read proximity sensor\n"
    }
   },
   "outputs": [],
   "source": [
    "@tdmclient.notebook.sync_var\n",
    "def read_proximity():\n",
    "    \"\"\"\n",
    "    Read the proximity sensors of the Thymio\n",
    "    \"\"\"\n",
    "    global prox_horizontal\n",
    "\n",
    "    return prox_horizontal"
   ]
  },
  {
   "cell_type": "code",
   "execution_count": 13,
   "metadata": {
    "collapsed": false,
    "pycharm": {
     "name": "#%%\n"
    }
   },
   "outputs": [],
   "source": [
    "%%run_python\n",
    "nf_leds_prox_h(0,0,0,0,0,0,0,0)\n",
    "nf_leds_prox_v(0,0)\n",
    "nf_leds_rc(0)\n",
    "nf_leds_sound(0)\n",
    "nf_leds_temperature(0,0)\n",
    "nf_leds_top(0,0,0)\n",
    "nf_leds_bottom_left(0,0,0)\n",
    "nf_leds_bottom_right(0,0,0)\n",
    "nf_leds_buttons(30,0,0,0)\n",
    "nf_leds_top(0,255,0)\n"
   ]
  },
  {
   "cell_type": "code",
   "execution_count": 15,
   "metadata": {
    "collapsed": false,
    "pycharm": {
     "name": "#%% Run thymio\n"
    }
   },
   "outputs": [
    {
     "name": "stdout",
     "output_type": "stream",
     "text": [
      "Start Kalman filter initialization\n",
      "Initialization complete: 0.009 s\n",
      "Initial pose: [0.11738958 0.34165625 0.         0.        ]\n",
      "Initial orientation [17.83658124  0.        ]\n",
      "--------------------------------------\n",
      "Start global navigation initialization\n",
      "Initialization complete: 0.072 s\n",
      "--------------------------------------\n",
      "Start motion control initialization\n",
      "Initialization complete: 0.000 s\n",
      "--------------------------------------\n"
     ]
    },
    {
     "ename": "SystemExit",
     "evalue": "",
     "output_type": "error",
     "traceback": [
      "An exception has occurred, use %tb to see the full traceback.\n",
      "\u001B[1;31mSystemExit\u001B[0m\n"
     ]
    }
   ],
   "source": [
    "\n",
    "# Kalman filter\n",
    "t = time.time()\n",
    "print(\"Start Kalman filter initialization\")\n",
    "mus_pos = []\n",
    "mus_att = []\n",
    "\n",
    "# Initialize state estimate using vision\n",
    "pose, orientation = kalman.init_state(vid)\n",
    "\n",
    "# Initialize kalman filters\n",
    "try:\n",
    "    kf_pos = kalman.Kalman(_acc_variance=0.5, _type=\"pose\", init_x=np.hstack((pose,[0,0])))\n",
    "    kf_att = kalman.Kalman(_acc_variance=0.5, _type=\"orientation\", init_x=np.hstack((orientation,0)))\n",
    "except:\n",
    "    print(\"Could not initialize Kalman filters\")\n",
    "\n",
    "print(\"Initialization complete: %5.3f s\" % (time.time()-t))\n",
    "print(\"Initial pose:\", kf_pos.mean)\n",
    "print(\"Initial orientation\", kf_att.mean*180/np.pi)\n",
    "print(\"--------------------------------------\")\n",
    "\n",
    "\n",
    "# Global navigation\n",
    "t = time.time()\n",
    "print(\"Start global navigation initialization\")\n",
    "\n",
    "nodes, nodeCon, maskObsDilated, optimal_pathP = gn.opt_path(vid)\n",
    "optimal_path = np.array(optimal_pathP)*vision.fieldWidthM/vision.fieldWidthP\n",
    "\n",
    "print(\"Initialization complete: %5.3f s\" % (time.time()-t))\n",
    "print(\"--------------------------------------\")\n",
    "\n",
    "\n",
    "# Motion control\n",
    "t = time.time()\n",
    "print(\"Start motion control initialization\")\n",
    "\n",
    "mc = motion_control.MotionControl(optimal_path*100,\n",
    "                                  kf_pos.mean[0]*100,\n",
    "                                  kf_pos.mean[1]*100,\n",
    "                                  kf_att.mean[0])\n",
    "\n",
    "print(\"Initialization complete: %5.3f s\" % (time.time()-t))\n",
    "print(\"--------------------------------------\")\n",
    "\n",
    "\n",
    "# Initialize pygame\n",
    "pg.init()\n",
    "\n",
    "h = int(841 / 2)\n",
    "w = int(1189 / 2)\n",
    "scr = pg.display.set_mode((w, h))\n",
    "\n",
    "thymio = pg.image.load(\"thymio.png\")\n",
    "thymio = pg.transform.scale(thymio, (50, 50))\n",
    "\n",
    "# main loop\n",
    "running = True\n",
    "simulate = False\n",
    "local = False\n",
    "while running:\n",
    "    # Configure key presses for pygame and cv2 windows\n",
    "    for event in pg.event.get():\n",
    "        if event.type == pg.QUIT:\n",
    "            cv2.destroyAllWindows()\n",
    "            pg.quit()\n",
    "            sys.exit()\n",
    "        elif event.type == pg.KEYDOWN:\n",
    "            if event.key == pg.K_RETURN :\n",
    "                simulate = not simulate\n",
    "    # Set up environment\n",
    "    scr.fill((0, 0, 0))\n",
    "    pg.draw.line(scr, (255, 255, 255), (0, int(h/2)), (w, int(h/2)))\n",
    "    pg.draw.line(scr, (255, 255, 255), (int(w/2), 0), (int(w/2), h))\n",
    "\n",
    "    # Start thymio movement\n",
    "    if simulate:\n",
    "        # Save expected values and covariance matrices\n",
    "        mus_pos.append(kf_pos.mean)\n",
    "        mus_att.append(kf_att.mean)\n",
    "\n",
    "        # Read sensor data\n",
    "        fetched = False\n",
    "        i = 0\n",
    "        while (not fetched) and (i < 10):\n",
    "            video_odometry = vision.fetchOdoMeters(vid)\n",
    "            if type(video_odometry) != bool:\n",
    "                pos = video_odometry[0:2]\n",
    "                orientation = np.array([video_odometry[2]])\n",
    "                fetched = True\n",
    "            i += 1\n",
    "        if not fetched:\n",
    "            print(\"No vision measurements found\")\n",
    "\n",
    "        motor_speeds = read_motors()\n",
    "        speed = (sum(motor_speeds)/2)*0.0004                                # magnitude of velocity [m/s]\n",
    "        angular_speed = (motor_speeds[1]-motor_speeds[0])*0.0004/0.094      # magnitude of angular velocity [rad/s]\n",
    "        vel = [speed*np.cos(mus_att[-1][0]), speed*np.sin(mus_att[-1][0])]\n",
    "\n",
    "        # Estimate pose\n",
    "        kalman.estimate_pose(time.time()-t, kf_pos, vel, pos, fetched)\n",
    "\n",
    "        # Estimate orientation\n",
    "        kalman.estimate_orientation(time.time()-t, kf_att, angular_speed, orientation, fetched)\n",
    "\n",
    "        # Motion control\n",
    "        prox_front = read_proximity()\n",
    "        if any(prox_front):\n",
    "            local = True\n",
    "            mc.update_local(kf_pos.mean[0]*100, kf_pos.mean[1]*100, kf_att.mean[0], prox_front)\n",
    "        else:\n",
    "            if local:\n",
    "                nodes, nodeCon, maskObsDilated, optimal_pathP = gn.opt_path(vid)\n",
    "                optimal_path = np.array(optimal_pathP)*vision.fieldWidthM/vision.fieldWidthP\n",
    "                mc = motion_control.MotionControl(optimal_path*100,\n",
    "                                  kf_pos.mean[0]*100,\n",
    "                                  kf_pos.mean[1]*100,\n",
    "                                  kf_att.mean[0])\n",
    "            local = False\n",
    "            mc.update_global(kf_pos.mean[0]*100, kf_pos.mean[1]*100, kf_att.mean[0])\n",
    "\n",
    "        # Update motor speeds\n",
    "        motors(l_speed=int(mc.l_speed), r_speed=int(mc.r_speed))\n",
    "\n",
    "        # Draw Thymio and optimal path in window\n",
    "        kalman.move(kf_pos.mean[0], kf_pos.mean[1], kf_att.mean[0], w, h, thymio, scr)\n",
    "        kalman.drawLine([mu[0] for mu in mus_pos], [mu[1] for mu in mus_pos], w, h, scr)\n",
    "        kalman.path(optimal_path, w, h, scr)\n",
    "    else:\n",
    "        kalman.move(kf_pos.mean[0], kf_pos.mean[1], kf_att.mean[0], w, h, thymio, scr)\n",
    "        kalman.drawLine([mu[0] for mu in mus_pos], [mu[1] for mu in mus_pos], w, h, scr)\n",
    "        motors(0, 0)\n",
    "\n",
    "    # Update windows\n",
    "    output = vision.liveFeedback(vid, nodes, nodeCon, maskObsDilated, optimal_pathP)\n",
    "    if type(output) != bool:\n",
    "        cv2.imshow('Live Feedback', output)\n",
    "\n",
    "    pg.display.flip()\n",
    "    t = time.time()\n",
    "\n",
    "motors(0, 0)\n",
    "vid.release()"
   ]
  },
  {
   "cell_type": "code",
   "execution_count": 5,
   "metadata": {
    "collapsed": false,
    "pycharm": {
     "name": "#%%\n"
    }
   },
   "outputs": [
    {
     "ename": "NameError",
     "evalue": "name 'motors' is not defined",
     "output_type": "error",
     "traceback": [
      "\u001B[1;31m---------------------------------------------------------------------------\u001B[0m",
      "\u001B[1;31mNameError\u001B[0m                                 Traceback (most recent call last)",
      "\u001B[1;32m<ipython-input-5-95e4071252c5>\u001B[0m in \u001B[0;36m<module>\u001B[1;34m\u001B[0m\n\u001B[1;32m----> 1\u001B[1;33m \u001B[0mmotors\u001B[0m\u001B[1;33m(\u001B[0m\u001B[1;36m100\u001B[0m\u001B[1;33m,\u001B[0m \u001B[1;36m100\u001B[0m\u001B[1;33m)\u001B[0m\u001B[1;33m\u001B[0m\u001B[1;33m\u001B[0m\u001B[0m\n\u001B[0m\u001B[0;32m      2\u001B[0m \u001B[0mstop\u001B[0m\u001B[1;33m(\u001B[0m\u001B[1;33m)\u001B[0m\u001B[1;33m\u001B[0m\u001B[1;33m\u001B[0m\u001B[0m\n\u001B[0;32m      3\u001B[0m \u001B[1;33m\u001B[0m\u001B[0m\n",
      "\u001B[1;31mNameError\u001B[0m: name 'motors' is not defined"
     ]
    }
   ],
   "source": [
    "motors(100, 100)\n",
    "stop()"
   ]
  },
  {
   "cell_type": "code",
   "execution_count": 4,
   "metadata": {
    "collapsed": false,
    "pycharm": {
     "name": "#%%\n"
    }
   },
   "outputs": [
    {
     "ename": "NameError",
     "evalue": "name 'motors' is not defined",
     "output_type": "error",
     "traceback": [
      "\u001B[1;31m---------------------------------------------------------------------------\u001B[0m",
      "\u001B[1;31mNameError\u001B[0m                                 Traceback (most recent call last)",
      "\u001B[1;32m<ipython-input-4-7cab176d0296>\u001B[0m in \u001B[0;36m<module>\u001B[1;34m\u001B[0m\n\u001B[1;32m----> 1\u001B[1;33m \u001B[0mmotors\u001B[0m\u001B[1;33m(\u001B[0m\u001B[1;36m0\u001B[0m\u001B[1;33m,\u001B[0m\u001B[1;36m0\u001B[0m\u001B[1;33m)\u001B[0m\u001B[1;33m\u001B[0m\u001B[1;33m\u001B[0m\u001B[0m\n\u001B[0m\u001B[0;32m      2\u001B[0m \u001B[1;33m\u001B[0m\u001B[0m\n",
      "\u001B[1;31mNameError\u001B[0m: name 'motors' is not defined"
     ]
    }
   ],
   "source": [
    "\n",
    "motors(0,0)"
   ]
  },
  {
   "cell_type": "code",
   "execution_count": 7,
   "metadata": {
    "collapsed": false,
    "pycharm": {
     "name": "#%%\n"
    }
   },
   "outputs": [],
   "source": [
    "stop()"
   ]
  },
  {
   "cell_type": "code",
   "execution_count": null,
   "metadata": {
    "collapsed": false,
    "pycharm": {
     "name": "#%%\n"
    }
   },
   "outputs": [],
   "source": []
  }
 ],
 "metadata": {
  "kernelspec": {
   "display_name": "Python 3.10.7 64-bit",
   "language": "python",
   "name": "python3"
  },
  "language_info": {
   "codemirror_mode": {
    "name": "ipython",
    "version": 2
   },
   "file_extension": ".py",
   "mimetype": "text/x-python",
   "name": "python",
   "nbconvert_exporter": "python",
   "pygments_lexer": "ipython2",
   "version": "3.10.7"
  },
  "vscode": {
   "interpreter": {
    "hash": "d2c1617acfb65407c86c6c9be757a3a696331c1921657d6ade4f6ab965232f3d"
   }
  }
 },
 "nbformat": 4,
 "nbformat_minor": 0
}