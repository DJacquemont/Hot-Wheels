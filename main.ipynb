{
 "cells": [
  {
   "cell_type": "code",
   "execution_count": 7,
   "metadata": {
    "collapsed": true,
    "pycharm": {
     "name": "#%% Thymio notebook\n"
    }
   },
   "outputs": [],
   "source": [
    "import tdmclient.notebook\n",
    "await tdmclient.notebook.start()\n"
   ]
  },
  {
   "cell_type": "code",
   "execution_count": 8,
   "outputs": [
    {
     "name": "stdout",
     "output_type": "stream",
     "text": [
      "pygame 1.9.6\n",
      "Hello from the pygame community. https://www.pygame.org/contribute.html\n"
     ]
    }
   ],
   "source": [
    "import time\n",
    "import sys\n",
    "import cv2\n",
    "import pygame as pg\n",
    "import numpy as np\n",
    "\n",
    "import vision\n",
    "import kalman"
   ],
   "metadata": {
    "collapsed": false,
    "pycharm": {
     "name": "#%%\n"
    }
   }
  },
  {
   "cell_type": "code",
   "execution_count": 9,
   "outputs": [],
   "source": [
    "vid = cv2.VideoCapture(1)\n"
   ],
   "metadata": {
    "collapsed": false,
    "pycharm": {
     "name": "#%%\n"
    }
   }
  },
  {
   "cell_type": "code",
   "execution_count": 10,
   "outputs": [],
   "source": [
    "@tdmclient.notebook.sync_var\n",
    "def motors(l_speed=500, r_speed=500):\n",
    "    \"\"\"\n",
    "    Sets the motor speeds of the Thymio\n",
    "    param l_speed: left motor speed\n",
    "    param r_speed: right motor speed\n",
    "    \"\"\"\n",
    "    global motor_left_target, motor_right_target\n",
    "\n",
    "    motor_left_target = l_speed\n",
    "    motor_right_target = r_speed"
   ],
   "metadata": {
    "collapsed": false,
    "pycharm": {
     "name": "#%% Define function to control wheel speeds\n"
    }
   }
  },
  {
   "cell_type": "code",
   "execution_count": 11,
   "outputs": [],
   "source": [
    "@tdmclient.notebook.sync_var\n",
    "def read_motors():\n",
    "    \"\"\"\n",
    "    Read the motor speeds of the Thymio\n",
    "    \"\"\"\n",
    "    global motor_left_speed, motor_right_speed\n",
    "\n",
    "    return [motor_left_speed, motor_right_speed]"
   ],
   "metadata": {
    "collapsed": false,
    "pycharm": {
     "name": "#%% Define function to read wheel speeds\n"
    }
   }
  },
  {
   "cell_type": "code",
   "execution_count": 12,
   "outputs": [],
   "source": [
    "%%run_python\n",
    "nf_leds_prox_h(0,0,0,0,0,0,0,0)\n",
    "nf_leds_prox_v(0,0)\n",
    "nf_leds_rc(0)\n",
    "nf_leds_sound(0)\n",
    "nf_leds_temperature(0,0)\n",
    "nf_leds_top(0,0,0)\n",
    "nf_leds_bottom_left(0,0,0)\n",
    "nf_leds_bottom_right(0,0,0)\n",
    "nf_leds_buttons(30,0,0,0)\n",
    "nf_leds_top(0,255,0)\n"
   ],
   "metadata": {
    "collapsed": false,
    "pycharm": {
     "name": "#%%\n"
    }
   }
  },
  {
   "cell_type": "code",
   "execution_count": 13,
   "outputs": [
    {
     "name": "stdout",
     "output_type": "stream",
     "text": [
      "Odometry obtained [350 384] 178.69148454943368\n",
      "Odometry obtained [350 384] 179.0486133224723\n",
      "[0.61322917 0.6728     0.         0.        ]\n",
      "[179.04846209   0.        ]\n",
      "---------------------\n",
      "Odometry obtained [350 383] 179.64766537533112\n",
      "Odometry obtained [350 383] 176.9957574757291\n",
      "Odometry obtained [350 383] 176.6360113051083\n",
      "Odometry obtained [350 383] 178.79015059333045\n",
      "Odometry obtained [350 383] 179.8433493990465\n",
      "Odometry obtained [348 383] 179.1556402674835\n",
      "Odometry obtained [347 384] -179.30927976180456\n",
      "Odometry obtained [346 384] -178.3662783541418\n",
      "Odometry obtained [345 383] -179.3449218226982\n",
      "Odometry obtained [344 383] -178.43730838463384\n",
      "Odometry obtained [341 383] -175.71187055513266\n",
      "Odometry obtained [340 383] -175.21537002043567\n",
      "Odometry obtained [339 383] -173.04507136216583\n",
      "Odometry obtained [338 383] -172.68073576150115\n",
      "Odometry obtained [335 383] -170.75663152630298\n",
      "Odometry obtained [334 383] -169.4016325651535\n",
      "Odometry obtained [333 382] -170.38177569339857\n",
      "Odometry obtained [332 382] -170.99644074102784\n",
      "Odometry obtained [331 382] -169.88049227720464\n",
      "Odometry obtained [330 382] -167.62203257946493\n",
      "Odometry obtained [326 380] -165.88688624077201\n",
      "Odometry obtained [326 380] -164.86502550047584\n",
      "Odometry obtained [325 379] -166.32236437165227\n",
      "Odometry obtained [321 379] -163.1547531208965\n",
      "Odometry obtained [320 378] -163.56711429079064\n",
      "Odometry obtained [320 379] -160.98356453761667\n",
      "Odometry obtained [319 377] -162.31025267991257\n",
      "Odometry obtained [317 377] -160.10646159338998\n",
      "Odometry obtained [315 376] -159.82635329194332\n",
      "Odometry obtained [314 375] -160.22479337007718\n",
      "Odometry obtained [313 376] -157.9040244532971\n",
      "Odometry obtained [312 376] -156.17194279073834\n",
      "Odometry obtained [309 374] -154.20943338367218\n",
      "Odometry obtained [307 374] -151.8523512540512\n",
      "Odometry obtained [306 373] -152.11896082494107\n",
      "Odometry obtained [306 373] -152.11896082494107\n",
      "Odometry obtained [303 371] -149.77828824524522\n",
      "Odometry obtained [303 370] -150.71747109818492\n",
      "Odometry obtained [302 369] -150.80961214867446\n",
      "Odometry obtained [301 369] -149.95172212803922\n",
      "Odometry obtained [300 368] -149.06639074348388\n",
      "Odometry obtained [297 367] -144.35509589609634\n",
      "Odometry obtained [297 366] -145.59363470060563\n",
      "Odometry obtained [296 365] -144.83661361036727\n",
      "Odometry obtained [295 365] -144.67653937534263\n",
      "Odometry obtained [292 362] -143.13448538214087\n",
      "Odometry obtained [292 362] -141.96270921492348\n",
      "Odometry obtained [291 361] -141.63331525392806\n",
      "Odometry obtained [288 360] -137.47533793231483\n",
      "Odometry obtained [288 360] -137.07588125728208\n",
      "Odometry obtained [287 359] -137.00535277343272\n",
      "Odometry obtained [286 358] -136.54232145979347\n",
      "Odometry obtained [286 358] -134.75886986415136\n",
      "Odometry obtained [283 355] -133.4376038413526\n",
      "Odometry obtained [282 354] -132.06483146494466\n",
      "Odometry obtained [281 353] -131.2481431441324\n",
      "Odometry obtained [281 351] -132.6269339847369\n",
      "Odometry obtained [281 351] -132.6269339847369\n",
      "Odometry obtained [279 348] -131.04573368492527\n",
      "Odometry obtained [278 347] -129.67681990761417\n",
      "Odometry obtained [276 345] -127.56185211111467\n",
      "Odometry obtained [274 342] -124.90481068317254\n",
      "Odometry obtained [274 341] -125.16448445862616\n",
      "Odometry obtained [273 340] -124.37952704137301\n",
      "Odometry obtained [274 341] -122.98642916127416\n",
      "Odometry obtained [270 338] -118.81345451955234\n",
      "Odometry obtained [270 337] -119.4235661379553\n",
      "Odometry obtained [269 335] -117.50111171196967\n",
      "Odometry obtained [269 334] -118.46541269735386\n",
      "Odometry obtained [269 334] -117.24184054730352\n",
      "Odometry obtained [267 331] -115.33157082352115\n",
      "Odometry obtained [267 331] -115.11125294228492\n",
      "Odometry obtained [267 330] -114.63321887358235\n",
      "Odometry obtained [267 328] -115.93393529443962\n",
      "Odometry obtained [266 327] -114.29105894587856\n",
      "Odometry obtained [266 326] -114.65094533014201\n",
      "Odometry obtained [265 324] -113.15870300315072\n",
      "Odometry obtained [265 324] -112.42547822360721\n",
      "Odometry obtained [264 324] -110.76620315393735\n",
      "Odometry obtained [264 320] -110.47059136278735\n",
      "Odometry obtained [264 319] -110.85170672653084\n",
      "Odometry obtained [263 318] -107.89471181101895\n",
      "Odometry obtained [262 316] -107.14399345648766\n",
      "Odometry obtained [261 313] -104.95905096567573\n",
      "Odometry obtained [261 313] -103.83579676482229\n",
      "Odometry obtained [261 313] -102.83417133757031\n",
      "Odometry obtained [260 311] -102.0584326492656\n",
      "Odometry obtained [260 307] -100.51381825613181\n",
      "Odometry obtained [259 306] -98.42705215925498\n",
      "Odometry obtained [259 304] -97.37573470562008\n",
      "Odometry obtained [259 303] -97.674117579405\n",
      "Odometry obtained [259 303] -97.11094178157649\n",
      "Odometry obtained [259 300] -96.19078420349224\n",
      "Odometry obtained [260 299] -96.34027312105738\n",
      "Odometry obtained [259 297] -94.92770405536795\n",
      "Odometry obtained [258 296] -92.46925021620501\n",
      "Odometry obtained [259 294] -94.19119241924585\n",
      "Odometry obtained [259 291] -92.2248007002295\n",
      "Odometry obtained [258 290] -89.40487336295209\n",
      "Odometry obtained [259 288] -89.48510427432906\n",
      "Odometry obtained [260 287] -90.92970032340554\n",
      "Odometry obtained [259 285] -87.30965486366844\n",
      "Odometry obtained [259 282] -85.50214148489758\n",
      "Odometry obtained [259 281] -83.5600232259755\n",
      "Odometry obtained [259 280] -83.1666329569404\n",
      "Odometry obtained [259 280] -83.1666329569404\n",
      "Odometry obtained [260 278] -82.76789355839065\n",
      "Odometry obtained [260 276] -81.29511156064422\n",
      "Odometry obtained [262 271] -79.66638096994119\n",
      "Odometry obtained [262 268] -76.6010633492672\n",
      "Odometry obtained [263 267] -76.61944128925379\n",
      "Odometry obtained [263 267] -76.72703127265305\n",
      "Odometry obtained [262 266] -74.8869161036937\n",
      "Odometry obtained [263 262] -72.23004993075698\n",
      "Odometry obtained [265 260] -72.27226688540195\n",
      "Odometry obtained [265 259] -72.04605637194906\n",
      "Odometry obtained [265 258] -69.86766176174952\n",
      "Odometry obtained [264 258] -68.88111026226545\n",
      "Odometry obtained [265 255] -66.87775857963967\n",
      "Odometry obtained [266 255] -67.63870224437491\n",
      "Odometry obtained [266 254] -66.58037564090215\n",
      "Odometry obtained [267 254] -68.25396007325098\n",
      "Odometry obtained [267 252] -66.58314643388812\n",
      "Odometry obtained [268 250] -64.82999037801756\n",
      "Odometry obtained [270 248] -63.80048040218653\n",
      "Odometry obtained [270 247] -61.29224671921138\n",
      "Odometry obtained [271 246] -63.072702991494666\n",
      "Odometry obtained [275 240] -59.32703082248842\n",
      "Odometry obtained [275 240] -59.044579064409504\n",
      "Odometry obtained [276 239] -58.736317918067876\n",
      "Odometry obtained [276 238] -57.1428765516118\n",
      "Odometry obtained [278 236] -56.298704660233454\n",
      "Odometry obtained [279 234] -53.98283794763268\n",
      "Odometry obtained [280 234] -54.10785805767084\n",
      "Odometry obtained [279 233] -51.423513872140575\n",
      "Odometry obtained [280 232] -50.74641923427669\n"
     ]
    },
    {
     "ename": "SystemExit",
     "evalue": "",
     "output_type": "error",
     "traceback": [
      "An exception has occurred, use %tb to see the full traceback.\n",
      "\u001B[1;31mSystemExit\u001B[0m\n"
     ]
    },
    {
     "name": "stderr",
     "output_type": "stream",
     "text": [
      "c:\\users\\timme\\appdata\\local\\programs\\python\\python38\\lib\\site-packages\\IPython\\core\\interactiveshell.py:3425: UserWarning: To exit: use 'exit', 'quit', or Ctrl-D.\n",
      "  warn(\"To exit: use 'exit', 'quit', or Ctrl-D.\", stacklevel=1)\n"
     ]
    }
   ],
   "source": [
    "\n",
    "# Set simulation parameters\n",
    "Ts = 0.01\n",
    "\n",
    "# Initialize kalman filter\n",
    "mus_pos = []\n",
    "covs_pos = []\n",
    "mus_att = []\n",
    "covs_att = []\n",
    "\n",
    "kf_pos = kalman.Kalman(_acc_variance=0.5, _type=\"pose\", videoFeed=vid)\n",
    "kf_att = kalman.Kalman(_acc_variance=0.5, _type=\"orientation\", videoFeed=vid)\n",
    "\n",
    "print(kf_pos.mean)\n",
    "print(kf_att.mean*180/np.pi)\n",
    "print(\"---------------------\")\n",
    "\n",
    "# Initialize pygame\n",
    "pg.init()\n",
    "\n",
    "h = 841\n",
    "w = 1189\n",
    "scr = pg.display.set_mode((w, h))\n",
    "\n",
    "thymio = pg.image.load(\"thymio.png\")\n",
    "thymio = pg.transform.scale(thymio, (50, 50))\n",
    "\n",
    "\n",
    "# main loop\n",
    "step = 0\n",
    "running = True\n",
    "simulate = False\n",
    "while running:\n",
    "    for event in pg.event.get():\n",
    "        if event.type == pg.QUIT:\n",
    "            pg.quit()\n",
    "            sys.exit()\n",
    "        elif event.type == pg.KEYDOWN:\n",
    "            if event.key == pg.K_RETURN :\n",
    "                simulate = not simulate\n",
    "    # Set up environment\n",
    "    scr.fill((0, 0, 0))\n",
    "    pg.draw.line(scr, (255, 255, 255), (0, int(h/2)), (w, int(h/2)))\n",
    "    pg.draw.line(scr, (255, 255, 255), (int(w/2), 0), (int(w/2), h))\n",
    "\n",
    "    # Start thymio movement\n",
    "    if simulate:\n",
    "        step+=1\n",
    "\n",
    "        # Save expected values and covariance matrices\n",
    "        mus_pos.append(kf_pos.mean)\n",
    "        covs_pos.append(kf_pos.cov)\n",
    "        mus_att.append(kf_att.mean)\n",
    "        covs_att.append(kf_att.cov)\n",
    "\n",
    "        # Read sensor data\n",
    "        video_odometry = vision.fetchOdoMeters(vid)\n",
    "        if type(video_odometry) != bool:\n",
    "            pos = video_odometry[0:2]\n",
    "            angle = np.array([video_odometry[2]])\n",
    "        motor_speeds = read_motors()\n",
    "        speed = (sum(motor_speeds)/2)*0.0005 # magnitude of velocity [m/s]\n",
    "        angular_speed = (motor_speeds[1]-motor_speeds[0])*0.0005/0.094 # magnitude of angular velocity [rad/s]\n",
    "        velocity = [speed*np.cos(mus_att[-1][0]), speed*np.sin(mus_att[-1][0])]\n",
    "\n",
    "        # Estimate pose\n",
    "        kf_pos.predict(dt=Ts)\n",
    "        kf_pos.update(meas_value=velocity,\n",
    "               meas_variance=kalman.meas_variance_vel,\n",
    "               C=np.array([[0, 0, 1, 0], [0, 0, 0, 1]]))\n",
    "        if type(video_odometry) != bool:\n",
    "            kf_pos.update(meas_value=list(pos),\n",
    "                meas_variance=kalman.meas_variance_pos,\n",
    "                C=np.array([[1, 0, 0, 0], [0, 1, 0, 0]]))\n",
    "\n",
    "        # Estimate orientation\n",
    "        kf_att.predict(dt=Ts)\n",
    "        kf_att.update(meas_value=angular_speed,\n",
    "               meas_variance=kalman.meas_variance_omega,\n",
    "               C=np.array([0, 1]))\n",
    "        if type(video_odometry) != bool:\n",
    "            kf_att.update(meas_value=angle[0],\n",
    "                meas_variance=kalman.meas_variance_att,\n",
    "                C=np.array([1, 0]))\n",
    "\n",
    "        # Update thymio position\n",
    "        kalman.move(kf_pos.mean[0], kf_pos.mean[1], kf_att.mean[0], w, h, thymio, scr)\n",
    "        kalman.drawLine([mu[0] for mu in mus_pos], [mu[1] for mu in mus_pos], w, h, scr)\n",
    "\n",
    "        # Motion control\n",
    "\n",
    "\n",
    "\n",
    "        # Flow control\n",
    "        motors(100, 200)\n",
    "    else:\n",
    "        kalman.move(kf_pos.mean[0], kf_pos.mean[1], kf_att.mean[0], w, h, thymio, scr)\n",
    "        kalman.drawLine([mu[0] for mu in mus_pos], [mu[1] for mu in mus_pos], w, h, scr)\n",
    "        motors(0, 0)\n",
    "\n",
    "    # Update screen\n",
    "    pg.display.flip()\n",
    "    time.sleep(Ts)\n",
    "\n",
    "motors(0, 0)\n",
    "vid.release()"
   ],
   "metadata": {
    "collapsed": false,
    "pycharm": {
     "name": "#%% Run thymio\n"
    }
   }
  },
  {
   "cell_type": "code",
   "execution_count": 5,
   "outputs": [
    {
     "ename": "NameError",
     "evalue": "name 'motors' is not defined",
     "output_type": "error",
     "traceback": [
      "\u001B[1;31m---------------------------------------------------------------------------\u001B[0m",
      "\u001B[1;31mNameError\u001B[0m                                 Traceback (most recent call last)",
      "\u001B[1;32m<ipython-input-5-95e4071252c5>\u001B[0m in \u001B[0;36m<module>\u001B[1;34m\u001B[0m\n\u001B[1;32m----> 1\u001B[1;33m \u001B[0mmotors\u001B[0m\u001B[1;33m(\u001B[0m\u001B[1;36m100\u001B[0m\u001B[1;33m,\u001B[0m \u001B[1;36m100\u001B[0m\u001B[1;33m)\u001B[0m\u001B[1;33m\u001B[0m\u001B[1;33m\u001B[0m\u001B[0m\n\u001B[0m\u001B[0;32m      2\u001B[0m \u001B[0mstop\u001B[0m\u001B[1;33m(\u001B[0m\u001B[1;33m)\u001B[0m\u001B[1;33m\u001B[0m\u001B[1;33m\u001B[0m\u001B[0m\n\u001B[0;32m      3\u001B[0m \u001B[1;33m\u001B[0m\u001B[0m\n",
      "\u001B[1;31mNameError\u001B[0m: name 'motors' is not defined"
     ]
    }
   ],
   "source": [
    "motors(100, 100)\n",
    "stop()"
   ],
   "metadata": {
    "collapsed": false,
    "pycharm": {
     "name": "#%%\n"
    }
   }
  },
  {
   "cell_type": "code",
   "execution_count": 8,
   "outputs": [],
   "source": [
    "\n",
    "motors(0,0)"
   ],
   "metadata": {
    "collapsed": false,
    "pycharm": {
     "name": "#%%\n"
    }
   }
  },
  {
   "cell_type": "code",
   "execution_count": 5,
   "outputs": [],
   "source": [
    "stop()"
   ],
   "metadata": {
    "collapsed": false,
    "pycharm": {
     "name": "#%%\n"
    }
   }
  },
  {
   "cell_type": "code",
   "execution_count": null,
   "outputs": [],
   "source": [],
   "metadata": {
    "collapsed": false,
    "pycharm": {
     "name": "#%%\n"
    }
   }
  }
 ],
 "metadata": {
  "kernelspec": {
   "display_name": "Python 3",
   "language": "python",
   "name": "python3"
  },
  "language_info": {
   "codemirror_mode": {
    "name": "ipython",
    "version": 2
   },
   "file_extension": ".py",
   "mimetype": "text/x-python",
   "name": "python",
   "nbconvert_exporter": "python",
   "pygments_lexer": "ipython2",
   "version": "2.7.6"
  }
 },
 "nbformat": 4,
 "nbformat_minor": 0
}