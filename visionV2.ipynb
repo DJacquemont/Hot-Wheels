{
 "cells": [
  {
   "cell_type": "code",
   "execution_count": null,
   "id": "d0215752",
   "metadata": {},
   "outputs": [],
   "source": [
    "import cv2\n",
    "import numpy as np\n",
    "from matplotlib import pyplot as plt\n",
    "import math"
   ]
  },
  {
   "cell_type": "code",
   "execution_count": null,
   "id": "7197dd52",
   "metadata": {},
   "outputs": [],
   "source": [
    "def odoFetch():\n",
    "    maskPos = cv2.inRange(frame, TLowPos, THighPos)\n",
    "    maskDir = cv2.inRange(frame, TLowDir, THighDir)\n",
    "\n",
    "    _, _, _, pos = cv2.connectedComponentsWithStats(maskPos, connectivity=8)\n",
    "    _, _, _, pointDir = cv2.connectedComponentsWithStats(maskDir, connectivity=8)\n",
    "    \n",
    "    pos = np.rint(pos[1]).astype(np.int32)\n",
    "    pointDir = np.rint(pointDir[1]).astype(np.int32)\n",
    "    \n",
    "    angle = math.atan2(pointDir[1]-pos[1], pointDir[0]-pos[0])\n",
    "\n",
    "    odometry = np.append(pos,angle)\n",
    "    \n",
    "    return odometry"
   ]
  },
  {
   "cell_type": "code",
   "execution_count": null,
   "id": "e36fc9f2",
   "metadata": {},
   "outputs": [],
   "source": [
    "def mapFetch():\n",
    "    maskObs = cv2.inRange(frame, TLowObs, THighObs)\n",
    "    maskObsDilated = cv2.dilate(maskObs, SE, iterations = 10)\n",
    "    maskObsMargin = cv2.dilate(maskObsDilated, SE, iterations = 5)\n",
    "\n",
    "    dst = cv2.cornerHarris(maskObsMargin,20,3,0.04)\n",
    "    blobCorner = np.zeros(frame.shape[:2], 'uint8')\n",
    "    blobCorner[dst>0.04*dst.max()]=1\n",
    "    \n",
    "    _, _, _, nodes = cv2.connectedComponentsWithStats(blobCorner, connectivity=8)\n",
    "\n",
    "    nodes = np.append(nodes, [odo[:2]], axis = 0)\n",
    "    nodes = np.append(nodes, [goal], axis = 0)\n",
    "    nodes = np.rint(nodes[1:]).astype(np.int32)\n",
    "\n",
    "    linkMat = np.ones((nodes.shape[0], nodes.shape[0]))\n",
    "\n",
    "    for i in range(nodes.shape[0]):\n",
    "        for j in range(i+1, nodes.shape[0]):\n",
    "            rangeYbigger = abs(nodes[i,1]-nodes[j,1]) > abs(nodes[i,0]-nodes[j,0])\n",
    "\n",
    "            if ((rangeYbigger and (nodes[i,1] > nodes[j,1])) or (not(rangeYbigger) and (nodes[i,0] > nodes[j,0]))):\n",
    "                node1, node2 =  nodes[j,:], nodes[i,:]\n",
    "            else:\n",
    "                node1, node2 =  nodes[i,:], nodes[j,:]\n",
    "                \n",
    "            if rangeYbigger:\n",
    "                alpha = (node2[0]-node1[0])/(node2[1]-node1[1])\n",
    "                for y in range(node2[1]-node1[1]):\n",
    "                    if (maskObsDilated[y+node1[1], round(alpha*y)+node1[0]] > 0):\n",
    "                        linkMat[j, i] = 0\n",
    "                        break\n",
    "                        \n",
    "\n",
    "            elif not(rangeYbigger):\n",
    "                alpha = (node2[1]-node1[1])/(node2[0]-node1[0])\n",
    "                for x in range(node2[0]-node1[0]):\n",
    "                    if (maskObsDilated[round(alpha*x)+node1[1], x+node1[0]] > 0):\n",
    "                        linkMat[j, i] = 0\n",
    "                        break\n",
    "\n",
    "    linkMat = np.nonzero(np.tril(linkMat, k=-1))\n",
    "    nodeCon = np.array(linkMat).T\n",
    "    \n",
    "    return nodes, nodeCon, maskObs, maskObsDilated"
   ]
  },
  {
   "cell_type": "code",
   "execution_count": null,
   "id": "344ca5a2",
   "metadata": {},
   "outputs": [],
   "source": [
    "def mapDisp():\n",
    "    blackImage = np.zeros(frame.shape, 'uint8')\n",
    "    whiteImage = 255*np.ones(frame.shape, 'uint8')\n",
    "\n",
    "    obstacles = cv2.bitwise_and(whiteImage, whiteImage, mask=maskObs)\n",
    "    safeZone = cv2.bitwise_and(whiteImage, whiteImage, mask=maskObsDilated)\n",
    "    terrain = cv2.addWeighted(safeZone,0.2,obstacles,0.4,0)\n",
    "\n",
    "    for idx, node in enumerate(nodes):\n",
    "        output = cv2.circle(terrain, node, 5, (255, 0, 0), -1)\n",
    "        font = cv2.FONT_HERSHEY_SIMPLEX\n",
    "        output = cv2.putText(output, str(idx), node, font, 1,(255,255,255),1,cv2.LINE_AA)\n",
    "\n",
    "    for con in nodeCon:\n",
    "        output = cv2.line(terrain, nodes[con[0]], nodes[con[1]], (50,150,150), 1)\n",
    "    \n",
    "    output = cv2.circle(output, goal, 10, (0, 255, 255), -1)\n",
    "    \n",
    "    return output"
   ]
  },
  {
   "cell_type": "code",
   "execution_count": null,
   "id": "8fc3f371",
   "metadata": {},
   "outputs": [],
   "source": [
    "def robotDisp():\n",
    "    returnImg = terrain.copy()\n",
    "    pos = np.rint(odo[:2]).astype(np.int32)\n",
    "    angle = odo[2]\n",
    "    returnImg = cv2.circle(returnImg, pos, 10, (0, 255, 0), -1)\n",
    "    returnImg = cv2.line(returnImg, pos, (pos + np.rint([40*math.cos(angle), 40*math.sin(angle)]).astype(np.int32)), (50,150,150), 3)\n",
    "    \n",
    "    return returnImg"
   ]
  },
  {
   "cell_type": "code",
   "execution_count": null,
   "id": "3060e25a",
   "metadata": {},
   "outputs": [],
   "source": [
    "def frameStabilizer():\n",
    "    for i in range(5):\n",
    "        ret, frame = vid.read()\n",
    "        \n",
    "    frame = cv2.blur(frame,(15,15))\n",
    "    return frame"
   ]
  },
  {
   "cell_type": "code",
   "execution_count": null,
   "id": "c8d4c04a",
   "metadata": {},
   "outputs": [],
   "source": [
    "# print(frame.shape)\n",
    "goal = [10, 10] # Carefull not to exceed max dim\n",
    "\n",
    " # GREEN\n",
    "TLowPos = (80,120,70) #(70,100,70)\n",
    "THighPos = (100,150,90) #(90,200,90)\n",
    "\n",
    " # BLUE\n",
    "TLowDir = (100, 60, 50) #(50, 60, 100)\n",
    "THighDir = (125, 90, 70) #(70, 90, 25)\n",
    "\n",
    " # RED\n",
    "TLowObs = (0,0,100)  #(150,20,50)\n",
    "THighObs = (70,70,200) #(200,50,70)\n",
    "\n",
    "SE = np.array([[0,0,1,0,0],\n",
    "               [0,1,1,1,0],\n",
    "               [1,1,1,1,1],\n",
    "               [0,1,1,1,0],\n",
    "               [0,0,1,0,0]], 'uint8')\n"
   ]
  },
  {
   "cell_type": "code",
   "execution_count": null,
   "id": "f81edef1",
   "metadata": {},
   "outputs": [],
   "source": [
    "vid = cv2.VideoCapture(1)"
   ]
  },
  {
   "cell_type": "code",
   "execution_count": null,
   "id": "ad1f73fe",
   "metadata": {},
   "outputs": [],
   "source": [
    "frame = frameStabilizer()\n",
    "\n",
    "odo = odoFetch()\n",
    "nodes, nodeCon, maskObs, maskObsDilated = mapFetch()\n",
    "terrain = mapDisp()\n",
    "\n",
    "while(True):\n",
    "    frame = frameStabilizer()\n",
    "    odo = odoFetch()\n",
    "    \n",
    "    cv2.imshow('frame', robotDisp())\n",
    "    \n",
    "    if cv2.waitKey(1) & 0xFF == ord('q'):\n",
    "        cv2.destroyAllWindows()\n",
    "        break"
   ]
  },
  {
   "cell_type": "code",
   "execution_count": null,
   "id": "2b4882c3",
   "metadata": {},
   "outputs": [],
   "source": [
    "vid.release()"
   ]
  },
  {
   "cell_type": "code",
   "execution_count": null,
   "id": "d5449b56",
   "metadata": {},
   "outputs": [],
   "source": []
  }
 ],
 "metadata": {
  "kernelspec": {
   "display_name": "Python 3 (ipykernel)",
   "language": "python",
   "name": "python3"
  },
  "language_info": {
   "codemirror_mode": {
    "name": "ipython",
    "version": 3
   },
   "file_extension": ".py",
   "mimetype": "text/x-python",
   "name": "python",
   "nbconvert_exporter": "python",
   "pygments_lexer": "ipython3",
   "version": "3.9.13"
  }
 },
 "nbformat": 4,
 "nbformat_minor": 5
}
