{
 "cells": [
  {
   "cell_type": "markdown",
   "id": "314b5f3d",
   "metadata": {},
   "source": [
    "### Connect to thymio"
   ]
  },
  {
   "cell_type": "code",
   "execution_count": 1,
   "id": "5646de32",
   "metadata": {},
   "outputs": [
    {
     "data": {
      "text/plain": [
       "Node d7c91586-507b-4962-bc0c-0fab87b9921b"
      ]
     },
     "execution_count": 1,
     "metadata": {},
     "output_type": "execute_result"
    }
   ],
   "source": [
    "from tdmclient import ClientAsync, aw\n",
    "client = ClientAsync()\n",
    "node = await client.wait_for_node()\n",
    "await node.lock()"
   ]
  },
  {
   "cell_type": "markdown",
   "id": "7eb5d9f0",
   "metadata": {},
   "source": [
    "### Disconnect"
   ]
  },
  {
   "cell_type": "code",
   "execution_count": 6,
   "id": "8c673e6c",
   "metadata": {},
   "outputs": [
    {
     "ename": "NameError",
     "evalue": "name 'aw' is not defined",
     "output_type": "error",
     "traceback": [
      "\u001b[1;31m---------------------------------------------------------------------------\u001b[0m",
      "\u001b[1;31mNameError\u001b[0m                                 Traceback (most recent call last)",
      "Input \u001b[1;32mIn [6]\u001b[0m, in \u001b[0;36m<cell line: 1>\u001b[1;34m()\u001b[0m\n\u001b[1;32m----> 1\u001b[0m \u001b[43maw\u001b[49m(node\u001b[38;5;241m.\u001b[39munlock())\n",
      "\u001b[1;31mNameError\u001b[0m: name 'aw' is not defined"
     ]
    }
   ],
   "source": [
    "aw(node.unlock())"
   ]
  },
  {
   "cell_type": "markdown",
   "id": "4c79a89a",
   "metadata": {},
   "source": [
    "### Test functions on Thymio"
   ]
  },
  {
   "cell_type": "code",
   "execution_count": 2,
   "id": "74ea17b6",
   "metadata": {},
   "outputs": [],
   "source": [
    "aw(node.lock())\n",
    "# Create an event named speed, with a size of data of 2 (should be between 0-32)\n",
    "aw(node.register_events([(\"update_motors\", 2)]))\n",
    "\n",
    "# The event data are obtained from variable event.args:\n",
    "program = \"\"\"\n",
    "onevent update_motors\n",
    "    motor.left.target = event.args[0]\n",
    "    motor.right.target = event.args[1]\n",
    "\"\"\"\n",
    "aw(node.compile(program))\n",
    "aw(node.run())"
   ]
  },
  {
   "cell_type": "code",
   "execution_count": 3,
   "id": "09a5ab14",
   "metadata": {},
   "outputs": [],
   "source": [
    "# turn right\n",
    "aw(node.send_events({\"update_motors\": [40, 20]}))\n",
    "# wait 1 second\n",
    "aw(client.sleep(1))\n",
    "# stop the robot\n",
    "aw(node.send_events({\"update_motors\": [0, 0]}))"
   ]
  },
  {
   "cell_type": "markdown",
   "id": "52a751bd",
   "metadata": {},
   "source": [
    "### Inports"
   ]
  },
  {
   "cell_type": "code",
   "execution_count": 4,
   "id": "1948d88c",
   "metadata": {},
   "outputs": [],
   "source": [
    "import time\n",
    "import numpy as np\n",
    "import matplotlib\n",
    "from matplotlib import pyplot as plt\n",
    "\n",
    "import motion_control as mc\n",
    "from motion_control import Trajectory\n",
    "from motion_control import Node\n",
    "from motion_control import MotionControl"
   ]
  },
  {
   "cell_type": "markdown",
   "id": "f63311e1",
   "metadata": {},
   "source": [
    "### Simulate functions from <code>motion_control.py</code>"
   ]
  },
  {
   "cell_type": "code",
   "execution_count": 9,
   "id": "78f2c54b",
   "metadata": {},
   "outputs": [],
   "source": [
    "#________________________________vvv inputs vvv________________________________#\n",
    "\n",
    "opt_traj = Trajectory([Node(0,0,0),\n",
    "                       Node(1,0,20),\n",
    "                       Node(2,20,20),\n",
    "                       Node(3,20,40)])\n",
    "\n",
    "robot_x, robot_y = 100, 100\n",
    "robot_ang = 0\n",
    "#________________________________^^^ inputs ^^^________________________________#"
   ]
  },
  {
   "cell_type": "code",
   "execution_count": 19,
   "id": "a85c42ed",
   "metadata": {},
   "outputs": [],
   "source": [
    "def speed_to_pos(x, y, ls, rs, ang, dt):\n",
    "    '''\n",
    "    Determines the next position in time using the speed of the wheels and the current position\n",
    "    Inputs:\n",
    "        x,y - the actual postion of the robot [cm]\n",
    "        ls, rs - the measured speed of the left and right wheels [aseba unit]\n",
    "        ang - the actual orientation of the robot [rad]\n",
    "        dt - the delta time [sec]\n",
    "    Outputs:\n",
    "        new_x = x + dx [cm]\n",
    "        new_y = y + dy [cm]\n",
    "        new_ang = ang + dang [rad]\n",
    "    '''\n",
    "    \n",
    "    robot_width = 9.4 #[cm]\n",
    "    speed_ratio = 10.6 #i've tuned this parameter in order to be as close as possible to reality\n",
    "    \n",
    "    l_dist = dt*ls/speed_ratio    # distance done by the left wheel\n",
    "    l_ang = l_dist/robot_width    # angle done by the left wheel if right wheel is stopped\n",
    "    r_dist = dt*rs/speed_ratio    # same\n",
    "    r_ang = r_dist/robot_width    # same\n",
    "    \n",
    "    #forward\n",
    "    df_l = robot_width/2 * np.sin(l_ang)    # compute the displacement done forward if only the left wheel is moving\n",
    "    df_r = robot_width/2 * np.sin(r_ang)    # same for right wheel\n",
    "    df = df_l + df_r                        # the total one is the sum of the two\n",
    "    \n",
    "    #side\n",
    "    ds_l = -robot_width/2 * (1-np.cos(l_ang))    # compute the displacement on the side if only the left is moving\n",
    "    ds_r =  robot_width/2 * (1-np.cos(r_ang))    # same for right\n",
    "    ds = ds_l + ds_r                             # total side displacement is the sum of the two\n",
    "    \n",
    "    dang = -l_ang + r_ang                     # the change in angle is the angle done by right wheel - angle done by left wheel\n",
    "    dx = np.cos(ang) * df + np.sin(ang) * ds  # the change in x direction depends on the angle of the robot\n",
    "    dy = np.sin(ang) * df + np.cos(ang) * ds  # the change in y depends on the angle of the robot as well\n",
    "    \n",
    "    NOISE = False\n",
    "    # simulate noise\n",
    "    if NOISE:\n",
    "        dang = dang+dang*np.random.normal(0,1)\n",
    "        dx = dx+dx*np.random.normal(0,1)\n",
    "        dy = dy+dy*np.random.normal(0,1)\n",
    "    \n",
    "    return x+dx, y+dy, ang+dang"
   ]
  },
  {
   "cell_type": "code",
   "execution_count": 20,
   "id": "add89a5d",
   "metadata": {
    "scrolled": true
   },
   "outputs": [],
   "source": [
    "robot_x, robot_y, robot_ang = 0, 0, 0\n",
    "mc = MotionControl(opt_traj, robot_x, robot_y, robot_ang)\n",
    "\n",
    "dt = 1/16\n",
    "true_traj = []\n",
    "while True:\n",
    "    mc.update_global(robot_x, robot_y, robot_ang)\n",
    "    true_traj.append(Node(0,mc.robot_pos.x, mc.robot_pos.y))\n",
    "    robot_x, robot_y, robot_ang = speed_to_pos(robot_x, robot_y, mc.l_speed, mc.r_speed, mc.robot_ori, dt)\n",
    "    aw(node.send_events({\"update_motors\": [int(mc.l_speed), int(mc.r_speed)]}))\n",
    "    aw(client.sleep(dt))\n",
    "#     print(mc.robot_pos.x, mc.robot_pos.y, mc.robot_ori)\n",
    "\n",
    "    if (mc.l_speed == 0) & (mc.r_speed == 0):\n",
    "        break"
   ]
  },
  {
   "cell_type": "code",
   "execution_count": 21,
   "id": "086b46b0",
   "metadata": {},
   "outputs": [
    {
     "data": {
      "image/png": "[encoded data removed]",
      "text/plain": [
       "<Figure size 1080x1080 with 1 Axes>"
      ]
     },
     "metadata": {
      "needs_background": "light"
     },
     "output_type": "display_data"
    },
    {
     "name": "stderr",
     "output_type": "stream",
     "text": [
      "Exception in thread Thread-5:\n",
      "Traceback (most recent call last):\n",
      "  File \"C:\\Users\\pujol\\anaconda3\\lib\\threading.py\", line 973, in _bootstrap_inner\n",
      "    self.run()\n",
      "  File \"C:\\Users\\pujol\\anaconda3\\lib\\site-packages\\tdmclient\\tcp.py\", line 73, in run\n",
      "    packet = self.read_packet()\n",
      "  File \"C:\\Users\\pujol\\anaconda3\\lib\\site-packages\\tdmclient\\tcp.py\", line 66, in read_packet\n",
      "    raise error\n",
      "  File \"C:\\Users\\pujol\\anaconda3\\lib\\site-packages\\tdmclient\\tcp.py\", line 59, in read_packet\n",
      "    packet_len = self.read_uint32()\n",
      "  File \"C:\\Users\\pujol\\anaconda3\\lib\\site-packages\\tdmclient\\tcp.py\", line 46, in read_uint32\n",
      "    b = self.io.read(4)\n",
      "  File \"C:\\Users\\pujol\\anaconda3\\lib\\site-packages\\tdmclient\\tcp.py\", line 99, in read\n",
      "    return self.socket.recv(n)\n",
      "ConnectionResetError: [WinError 10054] Une connexion existante a dû être fermée par l’hôte distant\n"
     ]
    }
   ],
   "source": [
    "fig = plt.figure(figsize=(15,15))\n",
    "x = np.array([point.x for point in mc.opt_traj.points])\n",
    "y = np.array([point.y for point in mc.opt_traj.points])\n",
    "x_true = np.array([point.x for point in true_traj])\n",
    "y_true = np.array([point.y for point in true_traj])\n",
    "plt.plot(x_true,y_true, label='practical path')\n",
    "plt.plot(x,y, label = 'optimal path')\n",
    "plt.legend()\n",
    "plt.show()"
   ]
  },
  {
   "cell_type": "code",
   "execution_count": null,
   "id": "9c3f45d4",
   "metadata": {},
   "outputs": [],
   "source": [
    "# aquire obstacles with vision\n",
    "nodes, links = nodes_from_vision()\n",
    "\n",
    "# compute best path with nodes\n",
    "opt_traj = algo_path(nodes, links)\n",
    "\n",
    "# initial robot position\n",
    "robot_pos_ini = pos_estim_kalman(vision)\n",
    "\n",
    "# create a MotionControl instance\n",
    "mc = MotionControl(opt_traj, robot_pos_ini)\n",
    "\n",
    "#everturning loop\n",
    "while True:\n",
    "    \n",
    "    # aquire position of the robot with the filtering\n",
    "    robot_pos = pos_estim_kalman(vision)\n",
    "    \n",
    "    # if reached the final node\n",
    "    if robot_pos = goal_pos:\n",
    "        thymio_lspeed, thymio_rspeed = 0, 0\n",
    "        break\n",
    "    \n",
    "    # if encounters an obstacle and the robot is still far away from next point,\n",
    "    # switches to local nav temporarly\n",
    "    obstacle = prox.sensor & (dist_from_next_point > robot_size)\n",
    "    if obstacle:\n",
    "        nav = 'local'\n",
    "        \n",
    "    # if the robot is offtrack, it means there is a distance between it and the line joining the two points\n",
    "    off_track = (distance_from_line(robot_pos, actual_point, next_point) > 0)\n",
    "    # if the robot is on the track (on the line of the desired path, switches back to global)\n",
    "    back_on_track = not(off_track)\n",
    "    if back_on_track:\n",
    "        nav = 'global'\n",
    "        \n",
    "    if nav == 'local':\n",
    "        mc.update_local(prox.sensors)\n",
    "        thymio_lspeed, thymio_rspeed = mc.lspeed, mc.rspeed\n",
    "    else:\n",
    "        mc.update_global(robot_pos)\n",
    "        thymio_lspeed, thymio_rspeed = mc.lspeed, mc.rspeed\n",
    "    "
   ]
  },
  {
   "cell_type": "code",
   "execution_count": null,
   "id": "eb04f1d2",
   "metadata": {},
   "outputs": [],
   "source": []
  }
 ],
 "metadata": {
  "kernelspec": {
   "display_name": "Python 3 (ipykernel)",
   "language": "python",
   "name": "python3"
  },
  "language_info": {
   "codemirror_mode": {
    "name": "ipython",
    "version": 3
   },
   "file_extension": ".py",
   "mimetype": "text/x-python",
   "name": "python",
   "nbconvert_exporter": "python",
   "pygments_lexer": "ipython3",
   "version": "3.9.12"
  }
 },
 "nbformat": 4,
 "nbformat_minor": 5
}
